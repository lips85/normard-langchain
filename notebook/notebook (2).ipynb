{
 "cells": [
  {
   "cell_type": "code",
   "execution_count": 1,
   "metadata": {},
   "outputs": [],
   "source": [
    "# from langchain_coummunity.utilities.duckduckgo_search import DuckDuckGoSearchAPIWrapper\n",
    "from langchain_community.utilities.duckduckgo_search import DuckDuckGoSearchAPIWrapper\n",
    "import yfinance\n",
    "import json\n",
    "\n",
    "\n",
    "def get_ticker(inputs):\n",
    "    ddg = DuckDuckGoSearchAPIWrapper()\n",
    "    company_name = inputs[\"company_name\"]\n",
    "    return ddg.run(f\"Ticker symbol of {company_name}\")\n",
    "\n",
    "\n",
    "def get_income_statement(inputs):\n",
    "    ticker = inputs[\"ticker\"]\n",
    "    stock = yfinance.Ticker(ticker)\n",
    "    return json.dumps(stock.income_stmt.to_json())\n",
    "\n",
    "\n",
    "def get_balance_sheet(inputs):\n",
    "    ticker = inputs[\"ticker\"]\n",
    "    stock = yfinance.Ticker(ticker)\n",
    "    return json.dumps(stock.balance_sheet.to_json())\n",
    "\n",
    "\n",
    "def get_daily_stock_performance(inputs):\n",
    "    ticker = inputs[\"ticker\"]\n",
    "    stock = yfinance.Ticker(ticker)\n",
    "    return json.dumps(stock.history(period=\"3mo\").to_json())\n",
    "\n",
    "\n",
    "functions_map = {\n",
    "    \"get_ticker\": get_ticker,\n",
    "    \"get_income_statement\": get_income_statement,\n",
    "    \"get_balance_sheet\": get_balance_sheet,\n",
    "    \"get_daily_stock_performance\": get_daily_stock_performance,\n",
    "}\n",
    "\n",
    "\n",
    "functions = [\n",
    "    {\n",
    "        \"type\": \"function\",\n",
    "        \"function\": {\n",
    "            \"name\": \"get_ticker\",\n",
    "            \"description\": \"Given the name of a company returns its ticker symbol\",\n",
    "            \"parameters\": {\n",
    "                \"type\": \"object\",\n",
    "                \"properties\": {\n",
    "                    \"company_name\": {\n",
    "                        \"type\": \"string\",\n",
    "                        \"description\": \"The name of the company\",\n",
    "                    }\n",
    "                },\n",
    "                \"required\": [\"company_name\"],\n",
    "            },\n",
    "        },\n",
    "    },\n",
    "    {\n",
    "        \"type\": \"function\",\n",
    "        \"function\": {\n",
    "            \"name\": \"get_income_statement\",\n",
    "            \"description\": \"Given a ticker symbol (i.e AAPL) returns the company's income statement.\",\n",
    "            \"parameters\": {\n",
    "                \"type\": \"object\",\n",
    "                \"properties\": {\n",
    "                    \"ticker\": {\n",
    "                        \"type\": \"string\",\n",
    "                        \"description\": \"Ticker symbol of the company\",\n",
    "                    },\n",
    "                },\n",
    "                \"required\": [\"ticker\"],\n",
    "            },\n",
    "        },\n",
    "    },\n",
    "    {\n",
    "        \"type\": \"function\",\n",
    "        \"function\": {\n",
    "            \"name\": \"get_balance_sheet\",\n",
    "            \"description\": \"Given a ticker symbol (i.e AAPL) returns the company's balance sheet.\",\n",
    "            \"parameters\": {\n",
    "                \"type\": \"object\",\n",
    "                \"properties\": {\n",
    "                    \"ticker\": {\n",
    "                        \"type\": \"string\",\n",
    "                        \"description\": \"Ticker symbol of the company\",\n",
    "                    },\n",
    "                },\n",
    "                \"required\": [\"ticker\"],\n",
    "            },\n",
    "        },\n",
    "    },\n",
    "    {\n",
    "        \"type\": \"function\",\n",
    "        \"function\": {\n",
    "            \"name\": \"get_daily_stock_performance\",\n",
    "            \"description\": \"Given a ticker symbol (i.e AAPL) returns the performance of the stock for the last 100 days.\",\n",
    "            \"parameters\": {\n",
    "                \"type\": \"object\",\n",
    "                \"properties\": {\n",
    "                    \"ticker\": {\n",
    "                        \"type\": \"string\",\n",
    "                        \"description\": \"Ticker symbol of the company\",\n",
    "                    },\n",
    "                },\n",
    "                \"required\": [\"ticker\"],\n",
    "            },\n",
    "        },\n",
    "    },\n",
    "]"
   ]
  },
  {
   "cell_type": "code",
   "execution_count": 3,
   "metadata": {},
   "outputs": [],
   "source": [
    "import openai as client\n",
    "\n",
    "# assistant = client.beta.assistants.create(\n",
    "#     name=\"Investor Assistant\",\n",
    "#     instructions=\"You help users do research on publicly traded companies and you help users decide if they should buy the stock or not.\",\n",
    "#     model=\"gpt-4-1106-preview\",\n",
    "#     tools=functions,\n",
    "# )\n",
    "# assistant\n",
    "\n",
    "assistant_id = \"asst_AQVhWaKBkz685joMiXyKOnf1\""
   ]
  },
  {
   "cell_type": "code",
   "execution_count": 4,
   "metadata": {},
   "outputs": [
    {
     "data": {
      "text/plain": [
       "Thread(id='thread_iHt66TXYjzldpYQa55IOGjcJ', created_at=1713019816, metadata={}, object='thread')"
      ]
     },
     "execution_count": 4,
     "metadata": {},
     "output_type": "execute_result"
    }
   ],
   "source": [
    "thread = client.beta.threads.create(\n",
    "    messages=[\n",
    "        {\n",
    "            \"role\": \"user\",\n",
    "            \"content\": \"I want to know if the Salesforce stock is a good buy\",\n",
    "        }\n",
    "    ]\n",
    ")\n",
    "thread"
   ]
  },
  {
   "cell_type": "code",
   "execution_count": 5,
   "metadata": {},
   "outputs": [
    {
     "data": {
      "text/plain": [
       "Run(id='run_XPukwiaPedruMZAW2XH8kKrg', assistant_id='asst_AQVhWaKBkz685joMiXyKOnf1', cancelled_at=None, completed_at=None, created_at=1713019823, expires_at=1713020423, failed_at=None, file_ids=[], instructions='You help users do research on publicly traded companies and you help users decide if they should buy the stock or not.', last_error=None, metadata={}, model='gpt-4-1106-preview', object='thread.run', required_action=None, started_at=None, status='queued', thread_id='thread_iHt66TXYjzldpYQa55IOGjcJ', tools=[FunctionTool(function=FunctionDefinition(name='get_ticker', description='Given the name of a company returns its ticker symbol', parameters={'type': 'object', 'properties': {'company_name': {'type': 'string', 'description': 'The name of the company'}}, 'required': ['company_name']}), type='function'), FunctionTool(function=FunctionDefinition(name='get_income_statement', description=\"Given a ticker symbol (i.e AAPL) returns the company's income statement.\", parameters={'type': 'object', 'properties': {'ticker': {'type': 'string', 'description': 'Ticker symbol of the company'}}, 'required': ['ticker']}), type='function'), FunctionTool(function=FunctionDefinition(name='get_balance_sheet', description=\"Given a ticker symbol (i.e AAPL) returns the company's balance sheet.\", parameters={'type': 'object', 'properties': {'ticker': {'type': 'string', 'description': 'Ticker symbol of the company'}}, 'required': ['ticker']}), type='function'), FunctionTool(function=FunctionDefinition(name='get_daily_stock_performance', description='Given a ticker symbol (i.e AAPL) returns the performance of the stock for the last 100 days.', parameters={'type': 'object', 'properties': {'ticker': {'type': 'string', 'description': 'Ticker symbol of the company'}}, 'required': ['ticker']}), type='function')], usage=None, temperature=1.0, max_completion_tokens=None, max_prompt_tokens=None, truncation_strategy={'type': 'auto', 'last_messages': None}, incomplete_details=None, response_format='auto', tool_choice='auto')"
      ]
     },
     "execution_count": 5,
     "metadata": {},
     "output_type": "execute_result"
    }
   ],
   "source": [
    "run = client.beta.threads.runs.create(\n",
    "    thread_id=thread.id,\n",
    "    assistant_id=assistant_id,\n",
    ")\n",
    "run"
   ]
  },
  {
   "cell_type": "code",
   "execution_count": 6,
   "metadata": {},
   "outputs": [],
   "source": [
    "def get_run(run_id, thread_id):\n",
    "    return client.beta.threads.runs.retrieve(\n",
    "        run_id=run_id,\n",
    "        thread_id=thread_id,\n",
    "    )\n",
    "\n",
    "\n",
    "def send_message(thread_id, content):\n",
    "    return client.beta.threads.messages.create(\n",
    "        thread_id=thread_id, role=\"user\", content=content\n",
    "    )\n",
    "\n",
    "\n",
    "def get_messages(thread_id):\n",
    "    messages = client.beta.threads.messages.list(thread_id=thread_id)\n",
    "    messages = list(messages)\n",
    "    messages.reverse()\n",
    "    for message in messages:\n",
    "        print(f\"{message.role}: {message.content[0].text.value}\")\n",
    "\n",
    "\n",
    "def get_tool_outputs(run_id, thread_id):\n",
    "    run = get_run(run_id, thread_id)\n",
    "    outputs = []\n",
    "    for action in run.required_action.submit_tool_outputs.tool_calls:\n",
    "        action_id = action.id\n",
    "        function = action.function\n",
    "        print(f\"Calling function: {function.name} with arg {function.arguments}\")\n",
    "        outputs.append(\n",
    "            {\n",
    "                \"output\": functions_map[function.name](json.loads(function.arguments)),\n",
    "                \"tool_call_id\": action_id,\n",
    "            }\n",
    "        )\n",
    "    return outputs\n",
    "\n",
    "\n",
    "def submit_tool_outputs(run_id, thread_id):\n",
    "    outpus = get_tool_outputs(run_id, thread_id)\n",
    "    return client.beta.threads.runs.submit_tool_outputs(\n",
    "        run_id=run_id,\n",
    "        thread_id=thread_id,\n",
    "        tool_outputs=outpus,\n",
    "    )"
   ]
  },
  {
   "cell_type": "code",
   "execution_count": 25,
   "metadata": {},
   "outputs": [
    {
     "name": "stdout",
     "output_type": "stream",
     "text": [
      "Run(id='run_XPukwiaPedruMZAW2XH8kKrg', assistant_id='asst_AQVhWaKBkz685joMiXyKOnf1', cancelled_at=None, completed_at=None, created_at=1713019823, expires_at=None, failed_at=None, file_ids=[], instructions='You help users do research on publicly traded companies and you help users decide if they should buy the stock or not.', last_error=None, metadata={}, model='gpt-4-1106-preview', object='thread.run', required_action=None, started_at=1713019823, status='expired', thread_id='thread_iHt66TXYjzldpYQa55IOGjcJ', tools=[FunctionTool(function=FunctionDefinition(name='get_ticker', description='Given the name of a company returns its ticker symbol', parameters={'type': 'object', 'properties': {'company_name': {'type': 'string', 'description': 'The name of the company'}}, 'required': ['company_name']}), type='function'), FunctionTool(function=FunctionDefinition(name='get_income_statement', description=\"Given a ticker symbol (i.e AAPL) returns the company's income statement.\", parameters={'type': 'object', 'properties': {'ticker': {'type': 'string', 'description': 'Ticker symbol of the company'}}, 'required': ['ticker']}), type='function'), FunctionTool(function=FunctionDefinition(name='get_balance_sheet', description=\"Given a ticker symbol (i.e AAPL) returns the company's balance sheet.\", parameters={'type': 'object', 'properties': {'ticker': {'type': 'string', 'description': 'Ticker symbol of the company'}}, 'required': ['ticker']}), type='function'), FunctionTool(function=FunctionDefinition(name='get_daily_stock_performance', description='Given a ticker symbol (i.e AAPL) returns the performance of the stock for the last 100 days.', parameters={'type': 'object', 'properties': {'ticker': {'type': 'string', 'description': 'Ticker symbol of the company'}}, 'required': ['ticker']}), type='function')], usage=Usage(completion_tokens=18, prompt_tokens=435, total_tokens=453), temperature=1.0, max_completion_tokens=None, max_prompt_tokens=None, truncation_strategy={'type': 'auto', 'last_messages': None}, incomplete_details=None, response_format='auto', tool_choice='auto')\n"
     ]
    }
   ],
   "source": [
    "run_id = run.id\n",
    "thread_id = thread.id\n",
    "\n",
    "run = get_run(run_id, thread_id)\n",
    "print(run)"
   ]
  },
  {
   "cell_type": "code",
   "execution_count": 17,
   "metadata": {},
   "outputs": [
    {
     "ename": "AttributeError",
     "evalue": "'NoneType' object has no attribute 'submit_tool_outputs'",
     "output_type": "error",
     "traceback": [
      "\u001b[0;31m---------------------------------------------------------------------------\u001b[0m",
      "\u001b[0;31mAttributeError\u001b[0m                            Traceback (most recent call last)",
      "Cell \u001b[0;32mIn[17], line 1\u001b[0m\n\u001b[0;32m----> 1\u001b[0m \u001b[43mget_tool_outputs\u001b[49m\u001b[43m(\u001b[49m\u001b[43mrun_id\u001b[49m\u001b[43m,\u001b[49m\u001b[43m \u001b[49m\u001b[43mthread_id\u001b[49m\u001b[43m)\u001b[49m\n",
      "Cell \u001b[0;32mIn[6], line 25\u001b[0m, in \u001b[0;36mget_tool_outputs\u001b[0;34m(run_id, thread_id)\u001b[0m\n\u001b[1;32m     23\u001b[0m run \u001b[38;5;241m=\u001b[39m get_run(run_id, thread_id)\n\u001b[1;32m     24\u001b[0m outputs \u001b[38;5;241m=\u001b[39m []\n\u001b[0;32m---> 25\u001b[0m \u001b[38;5;28;01mfor\u001b[39;00m action \u001b[38;5;129;01min\u001b[39;00m \u001b[43mrun\u001b[49m\u001b[38;5;241;43m.\u001b[39;49m\u001b[43mrequired_action\u001b[49m\u001b[38;5;241;43m.\u001b[39;49m\u001b[43msubmit_tool_outputs\u001b[49m\u001b[38;5;241m.\u001b[39mtool_calls:\n\u001b[1;32m     26\u001b[0m     action_id \u001b[38;5;241m=\u001b[39m action\u001b[38;5;241m.\u001b[39mid\n\u001b[1;32m     27\u001b[0m     function \u001b[38;5;241m=\u001b[39m action\u001b[38;5;241m.\u001b[39mfunction\n",
      "\u001b[0;31mAttributeError\u001b[0m: 'NoneType' object has no attribute 'submit_tool_outputs'"
     ]
    }
   ],
   "source": [
    "get_tool_outputs(run_id, thread_id)"
   ]
  },
  {
   "cell_type": "code",
   "execution_count": null,
   "metadata": {},
   "outputs": [],
   "source": [
    "submit_tool_outputs(run.id, thread.id)"
   ]
  },
  {
   "cell_type": "code",
   "execution_count": null,
   "metadata": {},
   "outputs": [],
   "source": [
    "get_run(run.id, thread.id).status"
   ]
  },
  {
   "cell_type": "code",
   "execution_count": 147,
   "metadata": {},
   "outputs": [
    {
     "name": "stdout",
     "output_type": "stream",
     "text": [
      "user: I want to know if the Salesforce stock is a good buy\n",
      "assistant: To determine whether Salesforce (CRM) stock is a good buy, we need to analyze several factors, including the company's financial health, recent stock performance, and any recent news or events that might impact the company's future prospects. Let's go through the process:\n",
      "\n",
      "1. **Financials**: We'll examine Salesforce's income statement and balance sheet, to assess the company's profitability, revenue growth, expenses, and overall financial stability.\n",
      "\n",
      "2. **Stock Performance**: We'll look at Salesforce's stock performance over the last 100 days to see how the stock has been trending.\n",
      "\n",
      "3. **Other Considerations**: We'll also take into account any recent news, the company's competitive position, market conditions, and industry analyses.\n",
      "\n",
      "To start, I can use the tools at my disposal to get Salesforce's ticker symbol, its income statement, balance sheet, and its stock performance over the last 100 days. Would you like me to proceed with this analysis?\n",
      "user: Please go ahead!\n",
      "assistant: Based on the financial data and stock performance information retrieved for Salesforce (CRM), here's a summary of the insights:\n",
      "\n",
      "### Income Statement Highlights:\n",
      "- **Recent Net Income**: The most recent net income recorded is $208 million.\n",
      "- **Total Revenue**: The latest total revenue stands at $31.35 billion.\n",
      "- **Gross Profit**: Salesforce has a gross profit of $22.99 billion.\n",
      "- **Operating Income**: Their operating income is reported as $1.85 billion.\n",
      "\n",
      "### Balance Sheet Highlights:\n",
      "- **Total Assets**: Salesforce's total assets amount to $98.85 billion.\n",
      "- **Total Liabilities**: The total liabilities are $40.49 billion.\n",
      "- **Shareholders' Equity**: The shareholders' equity equals $58.36 billion, indicating the company has a substantial equity base.\n",
      "- **Working Capital**: Working capital is positive at $504 million, suggesting the company can cover its short-term liabilities with its short-term assets.\n",
      "\n",
      "### Stock Performance Over the Last 100 Days:\n",
      "- The stock has seen fluctuations over the last 100 days with some peaks and troughs.\n",
      "- The stock opened at $208 and had highs reaching up to $228.79, and lows around $197.30 within the analyzed period.\n",
      "\n",
      "### Analysis:\n",
      "Salesforce shows a strong revenue base and positive net income, which is a good sign of a financially healthy company. The balance sheet indicates a stable financial position with more assets than liabilities, and a substantial amount of shareholders' equity.\n",
      "\n",
      "The stock performance seems to have had some volatility but did not show any extreme drops or surges, staying within a band that could be considered stable for blue-chip tech stocks. This relative stability, combined with overall market conditions and performance, can help guide your decision.\n",
      "\n",
      "Before making a decision to buy the stock, it's important to consider your investment goals and risk tolerance. Other factors to evaluate include Salesforce's future revenue forecasts, product pipelines, competitive position within its industry, and any recent news or analyst assessments that might influence its stock value in the short to medium term.\n",
      "\n",
      "It's also recommended to review Salesforce's price-earnings ratio (P/E), market trends, and external economic factors. Given the volatility of the tech sector and the stock market, any investment should be weighed against potential risks and aligned with a well-thought-out investment strategy.\n",
      "\n",
      "Salesforce is considered a leading player in cloud-based CRM services, and its future growth prospects are noteworthy. However, as with any investment, it's important to conduct thorough research and possibly consult with a financial advisor to tailor any stock decisions to your individual financial situation and goals.\n",
      "user: Now I want to know if Cloudflare is a good buy.\n",
      "assistant: Based on the financial data and stock performance information retrieved for Cloudflare (NET), here's a summary of the insights:\n",
      "\n",
      "### Income Statement Highlights:\n",
      "- **Recent Net Income**: Cloudflare reported a net loss of approximately $193.38 million in the latest year.\n",
      "- **Total Revenue**: The company's annual revenue was $975.24 million, showing a significant increase compared to the previous year.\n",
      "- **Gross Profit**: Cloudflare had a gross profit of $742.63 million.\n",
      "- **Operating Income (Loss)**: The company had an operating loss of $201.2 million.\n",
      "\n",
      "### Balance Sheet Highlights:\n",
      "- **Total Assets**: Cloudflare's total assets amount to approximately $2.59 billion.\n",
      "- **Total Liabilities**: The total liabilities are around $1.96 billion.\n",
      "- **Shareholders' Equity**: The shareholders' equity equals about $623.96 million, indicating that the company's equity base may be considered relatively strong in relation to its liabilities.\n",
      "- **Working Capital**: Cloudflare showed a substantial working capital value of $1.49 billion.\n",
      "\n",
      "### Stock Performance Over the Last 100 Days:\n",
      "- There has been volatility, with the stock price fluctuating over the last 100 days.\n",
      "- The opening stock price for the period was $59.52, and it reached highs of up to $75.68, with some lows as well.\n",
      "\n",
      "### Analysis:\n",
      "Cloudflare has shown strong revenue growth, which is an encouraging sign, potentially reflecting an increasing market demand for its services. However, the company is currently not profitable, as evidenced by the significant net loss reported. It's not uncommon for growth-focused tech companies to incur losses as they invest heavily in expansion.\n",
      "\n",
      "The current assets well exceed current liabilities, suggesting the company has adequate liquidity to meet short-term obligations. The shareholders' equity is positive, though investors often scrutinize the ability to turn revenue growth into profitability.\n",
      "\n",
      "In considering Cloudflare's stock, it is critical to evaluate the company's growth potential and whether it aligns with your investment horizon. While revenue growth is robust, the continued net losses will likely be a key factor for investors focusing on profitability.\n",
      "\n",
      "The stock performance shows some degree of volatility, which is typical for growth-oriented tech stocks. The price has been trending upwards recently, implying positive investor sentiment.\n",
      "\n",
      "Before deciding to buy Cloudflare stock, you should consider the overall risk tolerance of your investment portfolio, your investment strategy, and how a high-growth but currently unprofitable company fits into that. You may also want to look at analysts' forecasts, sector performance, competitive landscape, and the general market environment.\n",
      "\n",
      "Please remember that past performance is not indicative of future results. It's also advisable to obtain the latest updates and expert analyses before making any investment decisions. Consulting with a financial advisor is also recommended to ensure an investment decision fits your long-term financial plans.\n"
     ]
    }
   ],
   "source": [
    "get_messages(thread.id)"
   ]
  },
  {
   "cell_type": "code",
   "execution_count": null,
   "metadata": {},
   "outputs": [],
   "source": [
    "send_message(thread.id, \"Now I want to know if Cloudflare is a good buy.\")"
   ]
  }
 ],
 "metadata": {
  "kernelspec": {
   "display_name": "env",
   "language": "python",
   "name": "python3"
  },
  "language_info": {
   "codemirror_mode": {
    "name": "ipython",
    "version": 3
   },
   "file_extension": ".py",
   "mimetype": "text/x-python",
   "name": "python",
   "nbconvert_exporter": "python",
   "pygments_lexer": "ipython3",
   "version": "3.11.8"
  }
 },
 "nbformat": 4,
 "nbformat_minor": 2
}
