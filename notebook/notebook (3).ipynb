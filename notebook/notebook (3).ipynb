{
 "cells": [
  {
   "cell_type": "code",
   "execution_count": 1,
   "metadata": {},
   "outputs": [],
   "source": [
    "from langchain_community.utilities.duckduckgo_search import DuckDuckGoSearchAPIWrapper\n",
    "from langchain_community.utilities.wikipedia import WikipediaAPIWrapper\n",
    "from langchain.document_loaders.web_base import WebBaseLoader\n",
    "import json\n",
    "\n",
    "\n",
    "def get_websites_by_wikipedia_search(inputs):\n",
    "    w = WikipediaAPIWrapper()\n",
    "    query = inputs[\"query\"]\n",
    "    return w.run(query)\n",
    "\n",
    "\n",
    "def get_websites_by_duckduckgo_search(inputs):\n",
    "    ddg = DuckDuckGoSearchAPIWrapper()\n",
    "    query = inputs[\"query\"]\n",
    "    return ddg.run(query)\n",
    "\n",
    "\n",
    "def get_document_text(inputs):\n",
    "    url = inputs[\"url\"]\n",
    "    loader = WebBaseLoader([url])\n",
    "    docs = loader.load()\n",
    "    return docs[0].page_content\n",
    "\n",
    "\n",
    "functions_map = {\n",
    "    \"get_websites_by_wikipedia_search\": get_websites_by_wikipedia_search,\n",
    "    \"get_websites_by_duckduckgo_search\": get_websites_by_duckduckgo_search,\n",
    "    \"get_document_text\": get_document_text,\n",
    "}\n",
    "\n",
    "functions = [\n",
    "    {\n",
    "        \"type\": \"function\",\n",
    "        \"function\": {\n",
    "            \"name\": \"get_websites_by_wikipedia_search\",\n",
    "            \"description\": \"Use this tool to find the websites for the given query.\",\n",
    "            \"parameters\": {\n",
    "                \"type\": \"object\",\n",
    "                \"properties\": {\n",
    "                    \"query\": {\n",
    "                        \"type\": \"string\",\n",
    "                        \"description\": \"The query you will search for. Example query: Research about the XZ backdoor\",\n",
    "                    }\n",
    "                },\n",
    "                \"required\": [\"query\"],\n",
    "            },\n",
    "        },\n",
    "    },\n",
    "    {\n",
    "        \"type\": \"function\",\n",
    "        \"function\": {\n",
    "            \"name\": \"get_websites_by_duckduckgo_search\",\n",
    "            \"description\": \"Use this tool to find the websites for the given query.\",\n",
    "            \"parameters\": {\n",
    "                \"type\": \"object\",\n",
    "                \"properties\": {\n",
    "                    \"query\": {\n",
    "                        \"type\": \"string\",\n",
    "                        \"description\": \"The query you will search for. Example query: Research about the XZ backdoor\",\n",
    "                    }\n",
    "                },\n",
    "                \"required\": [\"query\"],\n",
    "            },\n",
    "        },\n",
    "    },\n",
    "    {\n",
    "        \"type\": \"function\",\n",
    "        \"function\": {\n",
    "            \"name\": \"get_document_text\",\n",
    "            \"description\": \"Use this tool to load the website for the given url.\",\n",
    "            \"parameters\": {\n",
    "                \"type\": \"object\",\n",
    "                \"properties\": {\n",
    "                    \"url\": {\n",
    "                        \"type\": \"string\",\n",
    "                        \"description\": \"The url you will load. Example url: https://en.wikipedia.org/wiki/Backdoor_(computing)\",\n",
    "                    }\n",
    "                },\n",
    "                \"required\": [\"url\"],\n",
    "            },\n",
    "        },\n",
    "    },\n",
    "]"
   ]
  },
  {
   "cell_type": "code",
   "execution_count": 2,
   "metadata": {},
   "outputs": [],
   "source": [
    "import openai as client\n",
    "\n",
    "# assistant = client.beta.assistants.create(\n",
    "#     name=\"Investor Assistant\",\n",
    "#     instructions=\"You help users do research on publicly traded companies and you help users decide if they should buy the stock or not.\",\n",
    "#     model=\"gpt-4-1106-preview\",\n",
    "#     tools=functions,\n",
    "# )\n",
    "# assistant_id = assistant.id\n",
    "# assistant_id\n",
    "assistant_id = \"asst_j9wH31CKrnzEHE8lYR54LdoQ\""
   ]
  },
  {
   "cell_type": "code",
   "execution_count": 3,
   "metadata": {},
   "outputs": [
    {
     "data": {
      "text/plain": [
       "Thread(id='thread_5mOi29iTyVJ5mFLgBEuRPaNO', created_at=1713129682, metadata={}, object='thread')"
      ]
     },
     "execution_count": 3,
     "metadata": {},
     "output_type": "execute_result"
    }
   ],
   "source": [
    "thread = client.beta.threads.create(\n",
    "    messages=[\n",
    "        {\n",
    "            \"role\": \"user\",\n",
    "            \"content\": \"Research about the XZ backdoor\",\n",
    "        }\n",
    "    ]\n",
    ")\n",
    "thread"
   ]
  },
  {
   "cell_type": "code",
   "execution_count": 4,
   "metadata": {},
   "outputs": [
    {
     "data": {
      "text/plain": [
       "Run(id='run_Gej9nXdMZcJIXhZGd3moiQMK', assistant_id='asst_j9wH31CKrnzEHE8lYR54LdoQ', cancelled_at=None, completed_at=None, created_at=1713129684, expires_at=1713130284, failed_at=None, file_ids=[], instructions='You help users do research on publicly traded companies and you help users decide if they should buy the stock or not.', last_error=None, metadata={}, model='gpt-4-1106-preview', object='thread.run', required_action=None, started_at=None, status='queued', thread_id='thread_5mOi29iTyVJ5mFLgBEuRPaNO', tools=[FunctionTool(function=FunctionDefinition(name='get_websites_by_wikipedia_search', description='Use this tool to find the websites for the given query.', parameters={'type': 'object', 'properties': {'query': {'type': 'string', 'description': 'The query you will search for. Example query: Research about the XZ backdoor'}}, 'required': ['query']}), type='function'), FunctionTool(function=FunctionDefinition(name='get_websites_by_duckduckgo_search', description='Use this tool to find the websites for the given query.', parameters={'type': 'object', 'properties': {'query': {'type': 'string', 'description': 'The query you will search for. Example query: Research about the XZ backdoor'}}, 'required': ['query']}), type='function'), FunctionTool(function=FunctionDefinition(name='get_document_text', description='Use this tool to load the website for the given url.', parameters={'type': 'object', 'properties': {'url': {'type': 'string', 'description': 'The url you will load. Example url: https://en.wikipedia.org/wiki/Backdoor_(computing)'}}, 'required': ['url']}), type='function')], usage=None, temperature=1.0, max_completion_tokens=None, max_prompt_tokens=None, truncation_strategy={'type': 'auto', 'last_messages': None}, incomplete_details=None, response_format='auto', tool_choice='auto')"
      ]
     },
     "execution_count": 4,
     "metadata": {},
     "output_type": "execute_result"
    }
   ],
   "source": [
    "run = client.beta.threads.runs.create(\n",
    "    thread_id=thread.id,\n",
    "    assistant_id=assistant_id,\n",
    ")\n",
    "run"
   ]
  },
  {
   "cell_type": "code",
   "execution_count": 5,
   "metadata": {},
   "outputs": [],
   "source": [
    "def get_run(run_id, thread_id):\n",
    "    return client.beta.threads.runs.retrieve(\n",
    "        run_id=run_id,\n",
    "        thread_id=thread_id,\n",
    "    )\n",
    "\n",
    "\n",
    "def send_message(thread_id, content):\n",
    "    return client.beta.threads.messages.create(\n",
    "        thread_id=thread_id, role=\"user\", content=content\n",
    "    )\n",
    "\n",
    "\n",
    "def get_messages(thread_id):\n",
    "    messages = client.beta.threads.messages.list(thread_id=thread_id)\n",
    "    messages = list(messages)\n",
    "    messages.reverse()\n",
    "    for message in messages:\n",
    "        print(f\"{message.role}: {message.content[0].text.value}\")\n",
    "\n",
    "\n",
    "def get_tool_outputs(run_id, thread_id):\n",
    "    run = get_run(run_id, thread_id)\n",
    "    outputs = []\n",
    "    for action in run.required_action.submit_tool_outputs.tool_calls:\n",
    "        action_id = action.id\n",
    "        function = action.function\n",
    "        print(f\"Calling function: {function.name} with arg {function.arguments}\")\n",
    "        outputs.append(\n",
    "            {\n",
    "                \"output\": functions_map[function.name](json.loads(function.arguments)),\n",
    "                \"tool_call_id\": action_id,\n",
    "            }\n",
    "        )\n",
    "    return outputs\n",
    "\n",
    "\n",
    "def submit_tool_outputs(run_id, thread_id):\n",
    "    outpus = get_tool_outputs(run_id, thread_id)\n",
    "    return client.beta.threads.runs.submit_tool_outputs(\n",
    "        run_id=run_id,\n",
    "        thread_id=thread_id,\n",
    "        tool_outputs=outpus,\n",
    "    )"
   ]
  },
  {
   "cell_type": "code",
   "execution_count": 7,
   "metadata": {},
   "outputs": [
    {
     "name": "stdout",
     "output_type": "stream",
     "text": [
      "Calling function: get_websites_by_wikipedia_search with arg {\"query\":\"Research about the XZ backdoor\"}\n"
     ]
    },
    {
     "data": {
      "text/plain": [
       "[{'output': \"Page: XZ Utils backdoor\\nSummary: On 29 March 2024, software developer Andres Freund reported that he had found a maliciously introduced backdoor in the Linux utility xz within the liblzma library in versions 5.6.0 and 5.6.1 released in February 2024.While xz is commonly present in most Linux distributions, at the time of discovery the backdoored version had not yet been widely deployed to production systems, but was present in development versions of major distributions.The backdoor gives an attacker who possesses a specific Ed448 private key remote code execution capabilities on the affected Linux system. The issue has been given the Common Vulnerabilities and Exposures number CVE-2024-3094 and has been assigned a CVSS score of 10.0, the highest possible score.\\n\\nPage: Supply chain attack\\nSummary: A supply chain attack is a cyber-attack that seeks to damage an organization by targeting less secure elements in the supply chain. A supply chain attack can occur in any industry, from the financial sector, oil industry, to a government sector. A supply chain attack can happen in software or hardware. Cybercriminals typically tamper with the manufacturing or distribution of a product by installing malware or hardware-based spying components. Symantec's 2019 Internet Security Threat Report states that supply chain attacks increased by 78 percent in 2018. A supply chain is a system of activities involved in handling, distributing, manufacturing, and processing goods in order to move resources from a vendor into the hands of the final consumer. A supply chain is a complex network of interconnected players governed by supply and demand.Although supply chain attack is a broad term without a universally agreed upon definition, in reference to cyber-security, a supply chain attack involves physically tampering with electronics (computers, ATMs, power systems, factory data networks) in order to install undetectable malware for the purpose of bringing harm to a player further down the supply chain network.In a more general sense, a supply chain attack may not necessarily involve electronics. In 2010 when burglars gained access to the pharmaceutical giant Eli Lilly's supply warehouse, by drilling a hole in the roof and loading $80 million worth of prescription drugs into a truck, they could also have been said to carry out a supply chain attack. However, this article will discuss cyber attacks on physical supply networks that rely on technology; hence, a supply chain attack is a method used by cyber-criminals.\\n\\n\\n\\nPage: Timeline of computer viruses and worms\\nSummary: This timeline of computer viruses and worms presents a chronological timeline of noteworthy computer viruses, computer worms, Trojan horses, similar malware, related research and events.\",\n",
       "  'tool_call_id': 'call_OSJKVyskAiUA7wpv3RrYkxkn'}]"
      ]
     },
     "execution_count": 7,
     "metadata": {},
     "output_type": "execute_result"
    }
   ],
   "source": [
    "get_tool_outputs(run.id, thread.id)"
   ]
  },
  {
   "cell_type": "code",
   "execution_count": 7,
   "metadata": {},
   "outputs": [
    {
     "name": "stdout",
     "output_type": "stream",
     "text": [
      "Calling function: get_websites_by_wikipedia_search with arg {\"query\":\"XZ backdoor\"}\n"
     ]
    },
    {
     "data": {
      "text/plain": [
       "Run(id='run_Gej9nXdMZcJIXhZGd3moiQMK', assistant_id='asst_j9wH31CKrnzEHE8lYR54LdoQ', cancelled_at=None, completed_at=None, created_at=1713129684, expires_at=1713130284, failed_at=None, file_ids=[], instructions='You help users do research on publicly traded companies and you help users decide if they should buy the stock or not.', last_error=None, metadata={}, model='gpt-4-1106-preview', object='thread.run', required_action=None, started_at=1713129684, status='queued', thread_id='thread_5mOi29iTyVJ5mFLgBEuRPaNO', tools=[FunctionTool(function=FunctionDefinition(name='get_websites_by_wikipedia_search', description='Use this tool to find the websites for the given query.', parameters={'type': 'object', 'properties': {'query': {'type': 'string', 'description': 'The query you will search for. Example query: Research about the XZ backdoor'}}, 'required': ['query']}), type='function'), FunctionTool(function=FunctionDefinition(name='get_websites_by_duckduckgo_search', description='Use this tool to find the websites for the given query.', parameters={'type': 'object', 'properties': {'query': {'type': 'string', 'description': 'The query you will search for. Example query: Research about the XZ backdoor'}}, 'required': ['query']}), type='function'), FunctionTool(function=FunctionDefinition(name='get_document_text', description='Use this tool to load the website for the given url.', parameters={'type': 'object', 'properties': {'url': {'type': 'string', 'description': 'The url you will load. Example url: https://en.wikipedia.org/wiki/Backdoor_(computing)'}}, 'required': ['url']}), type='function')], usage=None, temperature=1.0, max_completion_tokens=None, max_prompt_tokens=None, truncation_strategy={'type': 'auto', 'last_messages': None}, incomplete_details=None, response_format='auto', tool_choice='auto')"
      ]
     },
     "execution_count": 7,
     "metadata": {},
     "output_type": "execute_result"
    }
   ],
   "source": [
    "submit_tool_outputs(run.id, thread.id)"
   ]
  },
  {
   "cell_type": "code",
   "execution_count": 6,
   "metadata": {},
   "outputs": [
    {
     "data": {
      "text/plain": [
       "'requires_action'"
      ]
     },
     "execution_count": 6,
     "metadata": {},
     "output_type": "execute_result"
    }
   ],
   "source": [
    "get_run(run.id, thread.id).status"
   ]
  },
  {
   "cell_type": "code",
   "execution_count": 8,
   "metadata": {},
   "outputs": [
    {
     "name": "stdout",
     "output_type": "stream",
     "text": [
      "user: Research about the XZ backdoor\n",
      "assistant: The XZ backdoor refers to a security vulnerability discovered in the Linux utility xz within the liblzma library, in versions 5.6.0 and 5.6.1 released in February 2024. Software developer Andres Freund reported the backdoor on March 29, 2024. Although xz is a common component in most Linux distributions, the backdoored versions had not been widely deployed to production systems by the time the backdoor was discovered. However, they were present in development versions of major distributions.\n",
      "\n",
      "The backdoor enabled an attacker in possession of a specific Ed448 private key to execute remote code on affected Linux systems. This vulnerability has been assigned the Common Vulnerabilities and Exposures (CVE) number CVE-2024-3094 and has received the highest possible CVSS score of 10.0, indicating a critical severity level.\n",
      "\n",
      "To give some background, XZ Utils, where the vulnerability was found, is a set of free software command-line lossless data compressors for Unix-like systems and, from version 5.0 onwards, Microsoft Windows. These utilities employ the Lempel–Ziv–Markov chain algorithm (LZMA) for compression and decompression.\n",
      "\n",
      "In the context of computing, a backdoor is a covert method of bypassing normal authentication or encryption on a computer system. It may give attackers unauthorized access to a system, potentially allowing them to access sensitive information, corrupt or delete data, or engage in other malicious activities. Backdoors can take various forms, such as hidden parts of a program, separate programs, code in firmware, or parts of an operating system.\n",
      "\n",
      "It is essential for users and administrators of systems that utilize the affected versions of XZ Utils to be aware of this backdoor and to take the necessary steps to secure their systems, which may include updating or patching the xz utility to a non-vulnerable version.\n"
     ]
    }
   ],
   "source": [
    "get_messages(thread.id)"
   ]
  },
  {
   "cell_type": "code",
   "execution_count": null,
   "metadata": {},
   "outputs": [
    {
     "data": {
      "text/plain": [
       "Message(id='msg_KnyMu2vHcwsC7Jagjt5JgzOz', assistant_id=None, completed_at=None, content=[TextContentBlock(text=Text(annotations=[], value='Now I want to know if Cloudflare is a good buy.'), type='text')], created_at=1713103076, file_ids=[], incomplete_at=None, incomplete_details=None, metadata={}, object='thread.message', role='user', run_id=None, status=None, thread_id='thread_MErcuOfRNR0Ig1JjuPqQFSNp')"
      ]
     },
     "execution_count": 35,
     "metadata": {},
     "output_type": "execute_result"
    }
   ],
   "source": [
    "send_message(thread.id, \"Now I want to know if Cloudflare is a good buy.\")"
   ]
  }
 ],
 "metadata": {
  "kernelspec": {
   "display_name": "env",
   "language": "python",
   "name": "python3"
  },
  "language_info": {
   "codemirror_mode": {
    "name": "ipython",
    "version": 3
   },
   "file_extension": ".py",
   "mimetype": "text/x-python",
   "name": "python",
   "nbconvert_exporter": "python",
   "pygments_lexer": "ipython3",
   "version": "3.11.8"
  }
 },
 "nbformat": 4,
 "nbformat_minor": 2
}
