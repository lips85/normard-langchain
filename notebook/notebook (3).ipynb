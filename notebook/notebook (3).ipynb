{
 "cells": [
  {
   "cell_type": "code",
   "execution_count": 1,
   "metadata": {},
   "outputs": [],
   "source": [
    "from langchain_community.utilities.duckduckgo_search import DuckDuckGoSearchAPIWrapper\n",
    "from langchain_community.utilities.wikipedia import WikipediaAPIWrapper\n",
    "from langchain.document_loaders.web_base import WebBaseLoader\n",
    "import json\n",
    "\n",
    "\n",
    "def get_websites_by_wikipedia_search(inputs):\n",
    "    w = WikipediaAPIWrapper()\n",
    "    query = inputs[\"query\"]\n",
    "    return w.run(query)\n",
    "\n",
    "\n",
    "def get_websites_by_duckduckgo_search(inputs):\n",
    "    ddg = DuckDuckGoSearchAPIWrapper()\n",
    "    query = inputs[\"query\"]\n",
    "    return ddg.run(query)\n",
    "\n",
    "\n",
    "def get_document_text(inputs):\n",
    "    url = inputs[\"url\"]\n",
    "    loader = WebBaseLoader([url])\n",
    "    docs = loader.load()\n",
    "    return docs[0].page_content\n",
    "\n",
    "\n",
    "functions_map = {\n",
    "    \"get_websites_by_wikipedia_search\": get_websites_by_wikipedia_search,\n",
    "    \"get_websites_by_duckduckgo_search\": get_websites_by_duckduckgo_search,\n",
    "    \"get_document_text\": get_document_text,\n",
    "}\n",
    "\n",
    "functions = [\n",
    "    {\n",
    "        \"type\": \"function\",\n",
    "        \"function\": {\n",
    "            \"name\": \"get_websites_by_wikipedia_search\",\n",
    "            \"description\": \"Use this tool to find the websites for the given query.\",\n",
    "            \"parameters\": {\n",
    "                \"type\": \"object\",\n",
    "                \"properties\": {\n",
    "                    \"query\": {\n",
    "                        \"type\": \"string\",\n",
    "                        \"description\": \"The query you will search for. Example query: Research about the XZ backdoor\",\n",
    "                    }\n",
    "                },\n",
    "                \"required\": [\"query\"],\n",
    "            },\n",
    "        },\n",
    "    },\n",
    "    {\n",
    "        \"type\": \"function\",\n",
    "        \"function\": {\n",
    "            \"name\": \"get_websites_by_duckduckgo_search\",\n",
    "            \"description\": \"Use this tool to find the websites for the given query.\",\n",
    "            \"parameters\": {\n",
    "                \"type\": \"object\",\n",
    "                \"properties\": {\n",
    "                    \"query\": {\n",
    "                        \"type\": \"string\",\n",
    "                        \"description\": \"The query you will search for. Example query: Research about the XZ backdoor\",\n",
    "                    }\n",
    "                },\n",
    "                \"required\": [\"query\"],\n",
    "            },\n",
    "        },\n",
    "    },\n",
    "    {\n",
    "        \"type\": \"function\",\n",
    "        \"function\": {\n",
    "            \"name\": \"get_document_text\",\n",
    "            \"description\": \"Use this tool to load the website for the given url.\",\n",
    "            \"parameters\": {\n",
    "                \"type\": \"object\",\n",
    "                \"properties\": {\n",
    "                    \"url\": {\n",
    "                        \"type\": \"string\",\n",
    "                        \"description\": \"The url you will load. Example url: https://en.wikipedia.org/wiki/Backdoor_(computing)\",\n",
    "                    }\n",
    "                },\n",
    "                \"required\": [\"url\"],\n",
    "            },\n",
    "        },\n",
    "    },\n",
    "]"
   ]
  },
  {
   "cell_type": "code",
   "execution_count": 3,
   "metadata": {},
   "outputs": [
    {
     "data": {
      "text/plain": [
       "'asst_pOGzLuG3Wo3qV7GK3fhJ3N9U'"
      ]
     },
     "execution_count": 3,
     "metadata": {},
     "output_type": "execute_result"
    }
   ],
   "source": [
    "import openai as client\n",
    "\n",
    "assistant = client.beta.assistants.create(\n",
    "    name=\"Investor Assistant\",\n",
    "    instructions=\"You help users do research on publicly traded companies and you help users decide if they should buy the stock or not.\",\n",
    "    model=\"gpt-4-1106-preview\",\n",
    "    tools=functions,\n",
    ")\n",
    "assistant_id = assistant.id\n",
    "assistant_id\n",
    "# assistant_id = \"asst_clhG8awYQ8VSrYO86Cest8U7\""
   ]
  },
  {
   "cell_type": "code",
   "execution_count": 5,
   "metadata": {},
   "outputs": [
    {
     "data": {
      "text/plain": [
       "Thread(id='thread_DkcukOj9IVsm8Tp0Um1dim4G', created_at=1713109012, metadata={}, object='thread')"
      ]
     },
     "execution_count": 5,
     "metadata": {},
     "output_type": "execute_result"
    }
   ],
   "source": [
    "thread = client.beta.threads.create(\n",
    "    messages=[\n",
    "        {\n",
    "            \"role\": \"user\",\n",
    "            \"content\": \"Research about the XZ backdoor\",\n",
    "        }\n",
    "    ]\n",
    ")\n",
    "thread"
   ]
  },
  {
   "cell_type": "code",
   "execution_count": 6,
   "metadata": {},
   "outputs": [
    {
     "data": {
      "text/plain": [
       "Run(id='run_gpW36ospbshfQ9aQ3Q47k8gb', assistant_id='asst_pOGzLuG3Wo3qV7GK3fhJ3N9U', cancelled_at=None, completed_at=None, created_at=1713109019, expires_at=1713109619, failed_at=None, file_ids=[], instructions='You help users do research on publicly traded companies and you help users decide if they should buy the stock or not.', last_error=None, metadata={}, model='gpt-4-1106-preview', object='thread.run', required_action=None, started_at=None, status='queued', thread_id='thread_DkcukOj9IVsm8Tp0Um1dim4G', tools=[FunctionTool(function=FunctionDefinition(name='get_websites_by_wikipedia_search', description='Use this tool to find the websites for the given query.', parameters={'type': 'object', 'properties': {'query': {'type': 'string', 'description': 'The query you will search for. Example query: Research about the XZ backdoor'}}, 'required': ['query']}), type='function'), FunctionTool(function=FunctionDefinition(name='get_websites_by_duckduckgo_search', description='Use this tool to find the websites for the given query.', parameters={'type': 'object', 'properties': {'query': {'type': 'string', 'description': 'The query you will search for. Example query: Research about the XZ backdoor'}}, 'required': ['query']}), type='function'), FunctionTool(function=FunctionDefinition(name='get_document_text', description='Use this tool to load the website for the given url.', parameters={'type': 'object', 'properties': {'url': {'type': 'string', 'description': 'The url you will load. Example url: https://en.wikipedia.org/wiki/Backdoor_(computing)'}}, 'required': ['url']}), type='function')], usage=None, temperature=1.0, max_completion_tokens=None, max_prompt_tokens=None, truncation_strategy={'type': 'auto', 'last_messages': None}, incomplete_details=None, response_format='auto', tool_choice='auto')"
      ]
     },
     "execution_count": 6,
     "metadata": {},
     "output_type": "execute_result"
    }
   ],
   "source": [
    "run = client.beta.threads.runs.create(\n",
    "    thread_id=thread.id,\n",
    "    assistant_id=assistant_id,\n",
    ")\n",
    "run"
   ]
  },
  {
   "cell_type": "code",
   "execution_count": 7,
   "metadata": {},
   "outputs": [],
   "source": [
    "def get_run(run_id, thread_id):\n",
    "    return client.beta.threads.runs.retrieve(\n",
    "        run_id=run_id,\n",
    "        thread_id=thread_id,\n",
    "    )\n",
    "\n",
    "\n",
    "def send_message(thread_id, content):\n",
    "    return client.beta.threads.messages.create(\n",
    "        thread_id=thread_id, role=\"user\", content=content\n",
    "    )\n",
    "\n",
    "\n",
    "def get_messages(thread_id):\n",
    "    messages = client.beta.threads.messages.list(thread_id=thread_id)\n",
    "    messages = list(messages)\n",
    "    messages.reverse()\n",
    "    for message in messages:\n",
    "        print(f\"{message.role}: {message.content[0].text.value}\")\n",
    "\n",
    "\n",
    "def get_tool_outputs(run_id, thread_id):\n",
    "    run = get_run(run_id, thread_id)\n",
    "    outputs = []\n",
    "    for action in run.required_action.submit_tool_outputs.tool_calls:\n",
    "        action_id = action.id\n",
    "        function = action.function\n",
    "        print(f\"Calling function: {function.name} with arg {function.arguments}\")\n",
    "        outputs.append(\n",
    "            {\n",
    "                \"output\": functions_map[function.name](json.loads(function.arguments)),\n",
    "                \"tool_call_id\": action_id,\n",
    "            }\n",
    "        )\n",
    "    return outputs\n",
    "\n",
    "\n",
    "def submit_tool_outputs(run_id, thread_id):\n",
    "    outpus = get_tool_outputs(run_id, thread_id)\n",
    "    return client.beta.threads.runs.submit_tool_outputs(\n",
    "        run_id=run_id,\n",
    "        thread_id=thread_id,\n",
    "        tool_outputs=outpus,\n",
    "    )"
   ]
  },
  {
   "cell_type": "code",
   "execution_count": 8,
   "metadata": {},
   "outputs": [
    {
     "name": "stdout",
     "output_type": "stream",
     "text": [
      "Calling function: get_websites_by_wikipedia_search with arg {\"query\":\"XZ backdoor\"}\n"
     ]
    },
    {
     "data": {
      "text/plain": [
       "[{'output': 'Page: XZ Utils backdoor\\nSummary: On 29 March 2024, software developer Andres Freund reported that he had found a maliciously introduced backdoor in the Linux utility xz within the liblzma library in versions 5.6.0 and 5.6.1 released in February 2024.While xz is commonly present in most Linux distributions, at the time of discovery the backdoored version had not yet been widely deployed to production systems, but was present in development versions of major distributions.The backdoor gives an attacker who possesses a specific Ed448 private key remote code execution capabilities on the affected Linux system. The issue has been given the Common Vulnerabilities and Exposures number CVE-2024-3094 and has been assigned a CVSS score of 10.0, the highest possible score.\\n\\nPage: XZ Utils\\nSummary: XZ Utils (previously LZMA Utils) is a set of free software command-line lossless data compressors, including the programs lzma and xz, for Unix-like operating systems and, from version 5.0 onwards, Microsoft Windows. For compression/decompression the Lempel–Ziv–Markov chain algorithm (LZMA) is used. XZ Utils started as a Unix port of Igor Pavlov\\'s LZMA-SDK that has been adapted to fit seamlessly into Unix environments and their usual structure and behavior.\\n\\nPage: Backdoor (computing)\\nSummary: A backdoor is a typically covert method of bypassing normal authentication or encryption in a computer, product, embedded device (e.g. a home router), or its embodiment (e.g. part of a cryptosystem, algorithm, chipset, or even a \"homunculus computer\"—a tiny computer-within-a-computer such as that found in Intel\\'s AMT technology). Backdoors are most often used for securing remote access to a computer, or obtaining access to plaintext in cryptosystems. From there it may be used to gain access to privileged information like passwords, corrupt or delete data on hard drives, or transfer information within autoschediastic networks.\\nA backdoor may take the form of a hidden part of a program, a separate program (e.g. Back Orifice may subvert the system through a rootkit), code in the firmware of the hardware, or parts of an operating system such as Windows. Trojan horses can be used to create vulnerabilities in a device. A Trojan horse may appear to be an entirely legitimate program, but when executed, it triggers an activity that may install a backdoor. Although some are secretly installed, other backdoors are deliberate and widely known. These kinds of backdoors have \"legitimate\" uses such as providing the manufacturer with a way to restore user passwords.\\nMany systems that store information within the cloud fail to create accurate security measures. If many systems are connected within the cloud, hackers can gain access to all other platforms through the most vulnerable system. Default passwords (or other default credentials) can function as backdoors if they are not changed by the user. Some debugging features can also act as backdoors if they are not removed in the release version. In 1993, the United States government attempted to deploy an encryption system, the Clipper chip, with an explicit backdoor for law enforcement and national security access. The chip was unsuccessful.Recent proposals to counter backdoors include creating a database of backdoors\\' triggers and then using neural networks to detect them.',\n",
       "  'tool_call_id': 'call_7UgnNru4RWZkGtT4O5RpaKkC'}]"
      ]
     },
     "execution_count": 8,
     "metadata": {},
     "output_type": "execute_result"
    }
   ],
   "source": [
    "get_tool_outputs(run.id, thread.id)"
   ]
  },
  {
   "cell_type": "code",
   "execution_count": 9,
   "metadata": {},
   "outputs": [
    {
     "name": "stdout",
     "output_type": "stream",
     "text": [
      "Calling function: get_websites_by_wikipedia_search with arg {\"query\":\"XZ backdoor\"}\n"
     ]
    },
    {
     "data": {
      "text/plain": [
       "Run(id='run_gpW36ospbshfQ9aQ3Q47k8gb', assistant_id='asst_pOGzLuG3Wo3qV7GK3fhJ3N9U', cancelled_at=None, completed_at=None, created_at=1713109019, expires_at=1713109619, failed_at=None, file_ids=[], instructions='You help users do research on publicly traded companies and you help users decide if they should buy the stock or not.', last_error=None, metadata={}, model='gpt-4-1106-preview', object='thread.run', required_action=None, started_at=1713109019, status='queued', thread_id='thread_DkcukOj9IVsm8Tp0Um1dim4G', tools=[FunctionTool(function=FunctionDefinition(name='get_websites_by_wikipedia_search', description='Use this tool to find the websites for the given query.', parameters={'type': 'object', 'properties': {'query': {'type': 'string', 'description': 'The query you will search for. Example query: Research about the XZ backdoor'}}, 'required': ['query']}), type='function'), FunctionTool(function=FunctionDefinition(name='get_websites_by_duckduckgo_search', description='Use this tool to find the websites for the given query.', parameters={'type': 'object', 'properties': {'query': {'type': 'string', 'description': 'The query you will search for. Example query: Research about the XZ backdoor'}}, 'required': ['query']}), type='function'), FunctionTool(function=FunctionDefinition(name='get_document_text', description='Use this tool to load the website for the given url.', parameters={'type': 'object', 'properties': {'url': {'type': 'string', 'description': 'The url you will load. Example url: https://en.wikipedia.org/wiki/Backdoor_(computing)'}}, 'required': ['url']}), type='function')], usage=None, temperature=1.0, max_completion_tokens=None, max_prompt_tokens=None, truncation_strategy={'type': 'auto', 'last_messages': None}, incomplete_details=None, response_format='auto', tool_choice='auto')"
      ]
     },
     "execution_count": 9,
     "metadata": {},
     "output_type": "execute_result"
    }
   ],
   "source": [
    "submit_tool_outputs(run.id, thread.id)"
   ]
  },
  {
   "cell_type": "code",
   "execution_count": 19,
   "metadata": {},
   "outputs": [
    {
     "data": {
      "text/plain": [
       "'completed'"
      ]
     },
     "execution_count": 19,
     "metadata": {},
     "output_type": "execute_result"
    }
   ],
   "source": [
    "get_run(run.id, thread.id).status"
   ]
  },
  {
   "cell_type": "code",
   "execution_count": 20,
   "metadata": {},
   "outputs": [
    {
     "name": "stdout",
     "output_type": "stream",
     "text": [
      "user: Research about the XZ backdoor\n",
      "assistant: The XZ backdoor refers to a malicious backdoor discovered in the Linux utility xz, specifically within the liblzma library in versions 5.6.0 and 5.6.1 released in February 2024. The issue was reported by software developer Andres Freund on March 29, 2024. Despite xz being commonly present in most Linux distributions, at the time of the discovery, the backdoored versions had not been widely deployed to production systems. They were found in development versions of major distributions. This backdoor granted attackers with a specific Ed448 private key the capability to execute code remotely on affected Linux systems. It has been assigned the Common Vulnerabilities and Exposures (CVE) identifier CVE-2024-3094 and has received the highest possible score of 10.0 on the CVSS (Common Vulnerability Scoring System) scale, indicating a critical level of severity.\n",
      "\n",
      "For context, XZ Utils is a set of free software command-line lossless data compressors, including lzma and xz, for Unix-like operating systems and Microsoft Windows from version 5.0 onwards. They utilize the Lempel–Ziv–Markov chain algorithm (LZMA) for compression and decompression. XZ Utils began as a Unix port of Igor Pavlov's LZMA-SDK (Software Development Kit).\n",
      "\n",
      "A backdoor in computing is a covert method of bypassing normal authentication or encryption in a computer, product, or embedded device. It can be used for securing remote access to a computer or obtaining access to privileged information such as passwords. Backdoors can take the form of hidden parts of a program, standalone programs, code in firmware, or parts of an operating system. They are often used for nefarious purposes, such as spying, spreading malware, or data manipulation. However, some backdoors are known and may serve \"legitimate\" purposes, like helping manufacturers restore user passwords.\n"
     ]
    }
   ],
   "source": [
    "get_messages(thread.id)"
   ]
  },
  {
   "cell_type": "code",
   "execution_count": 35,
   "metadata": {},
   "outputs": [
    {
     "data": {
      "text/plain": [
       "Message(id='msg_KnyMu2vHcwsC7Jagjt5JgzOz', assistant_id=None, completed_at=None, content=[TextContentBlock(text=Text(annotations=[], value='Now I want to know if Cloudflare is a good buy.'), type='text')], created_at=1713103076, file_ids=[], incomplete_at=None, incomplete_details=None, metadata={}, object='thread.message', role='user', run_id=None, status=None, thread_id='thread_MErcuOfRNR0Ig1JjuPqQFSNp')"
      ]
     },
     "execution_count": 35,
     "metadata": {},
     "output_type": "execute_result"
    }
   ],
   "source": [
    "send_message(thread.id, \"Now I want to know if Cloudflare is a good buy.\")"
   ]
  }
 ],
 "metadata": {
  "kernelspec": {
   "display_name": "env",
   "language": "python",
   "name": "python3"
  },
  "language_info": {
   "codemirror_mode": {
    "name": "ipython",
    "version": 3
   },
   "file_extension": ".py",
   "mimetype": "text/x-python",
   "name": "python",
   "nbconvert_exporter": "python",
   "pygments_lexer": "ipython3",
   "version": "3.11.8"
  }
 },
 "nbformat": 4,
 "nbformat_minor": 2
}
