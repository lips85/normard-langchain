{
 "cells": [
  {
   "cell_type": "code",
   "execution_count": 3,
   "metadata": {},
   "outputs": [
    {
     "name": "stdout",
     "output_type": "stream",
     "text": [
      "\n",
      "\n",
      "\u001b[1m> Entering new SQL Agent Executor chain...\u001b[0m\n",
      "\u001b[32;1m\u001b[1;3m\n",
      "Invoking: `sql_db_list_tables` with `{'tool_input': ''}`\n",
      "\n",
      "\n",
      "\u001b[0m\u001b[38;5;200m\u001b[1;3mdirectors, movies\u001b[0m\u001b[32;1m\u001b[1;3m\n",
      "Invoking: `sql_db_schema` with `{'table_names': 'movies'}`\n",
      "\n",
      "\n",
      "\u001b[0m\u001b[33;1m\u001b[1;3m\n",
      "CREATE TABLE movies (\n",
      "\tid INTEGER, \n",
      "\toriginal_title VARCHAR, \n",
      "\tbudget INTEGER, \n",
      "\tpopularity INTEGER, \n",
      "\trelease_date TEXT, \n",
      "\trevenue INTEGER, \n",
      "\ttitle TEXT, \n",
      "\tvote_average REAL, \n",
      "\tvote_count INTEGER, \n",
      "\toverview TEXT, \n",
      "\ttagline TEXT, \n",
      "\tuid INTEGER, \n",
      "\tdirector_id INTEGER DEFAULT 0 NOT NULL, \n",
      "\tPRIMARY KEY (id)\n",
      ")\n",
      "\n",
      "/*\n",
      "3 rows from movies table:\n",
      "id\toriginal_title\tbudget\tpopularity\trelease_date\trevenue\ttitle\tvote_average\tvote_count\toverview\ttagline\tuid\tdirector_id\n",
      "43597\tAvatar\t237000000\t150\t2009-12-10\t2787965087\tAvatar\t7.2\t11800\tIn the 22nd century, a paraplegic Marine is dispatched to the moon Pandora on a unique mission, but \tEnter the World of Pandora.\t19995\t4762\n",
      "43598\tPirates of the Caribbean: At World's End\t300000000\t139\t2007-05-19\t961000000\tPirates of the Caribbean: At World's End\t6.9\t4500\tCaptain Barbossa, long believed to be dead, has come back to life and is headed to the edge of the E\tAt the end of the world, the adventure begins.\t285\t4763\n",
      "43599\tSpectre\t245000000\t107\t2015-10-26\t880674609\tSpectre\t6.3\t4466\tA cryptic message from Bond’s past sends him on a trail to uncover a sinister organization. While M \tA Plan No One Escapes\t206647\t4764\n",
      "*/\u001b[0m\u001b[32;1m\u001b[1;3m\n",
      "Invoking: `sql_db_query` with `{'query': 'SELECT original_title, director_id, budget, revenue, vote_count FROM movies ORDER BY vote_count DESC, budget ASC LIMIT 10'}`\n",
      "\n",
      "\n",
      "\u001b[0m\u001b[36;1m\u001b[1;3m[('Inception', 4765, 160000000, 825532764, 13752), ('The Dark Knight', 4765, 185000000, 1004558444, 12002), ('Avatar', 4762, 237000000, 2787965087, 11800), ('The Avengers', 4769, 220000000, 1519557910, 11776), ('Deadpool', 5151, 58000000, 783112979, 10995), ('Interstellar', 4765, 165000000, 675120017, 10867), ('Django Unchained', 4927, 100000000, 425368238, 10099), ('Guardians of the Galaxy', 4827, 170000000, 773328629, 9742), ('The Hunger Games', 4973, 75000000, 691210692, 9455), ('Mad Max: Fury Road', 4845, 150000000, 378858340, 9427)]\u001b[0m\u001b[32;1m\u001b[1;3mThe movies with the highest votes but the lowest budgets are:\n",
      "\n",
      "1. Movie: Inception, Director ID: 4765, Budget: $160,000,000, Revenue: $825,532,764, Vote Count: 13752\n",
      "2. Movie: The Dark Knight, Director ID: 4765, Budget: $185,000,000, Revenue: $1,004,558,444, Vote Count: 12002\n",
      "3. Movie: Avatar, Director ID: 4762, Budget: $237,000,000, Revenue: $2,787,965,087, Vote Count: 11800\n",
      "4. Movie: The Avengers, Director ID: 4769, Budget: $220,000,000, Revenue: $1,519,557,910, Vote Count: 11776\n",
      "5. Movie: Deadpool, Director ID: 5151, Budget: $58,000,000, Revenue: $783,112,979, Vote Count: 10995\n",
      "6. Movie: Interstellar, Director ID: 4765, Budget: $165,000,000, Revenue: $675,120,017, Vote Count: 10867\n",
      "7. Movie: Django Unchained, Director ID: 4927, Budget: $100,000,000, Revenue: $425,368,238, Vote Count: 10099\n",
      "8. Movie: Guardians of the Galaxy, Director ID: 4827, Budget: $170,000,000, Revenue: $773,328,629, Vote Count: 9742\n",
      "9. Movie: The Hunger Games, Director ID: 4973, Budget: $75,000,000, Revenue: $691,210,692, Vote Count: 9455\n",
      "10. Movie: Mad Max: Fury Road, Director ID: 4845, Budget: $150,000,000, Revenue: $378,858,340, Vote Count: 9427\u001b[0m\n",
      "\n",
      "\u001b[1m> Finished chain.\u001b[0m\n"
     ]
    },
    {
     "data": {
      "text/plain": [
       "{'input': 'Give me the movies that have the highest votes but the lowest budgets and give me the name of their directors also include their gross revenue.',\n",
       " 'output': 'The movies with the highest votes but the lowest budgets are:\\n\\n1. Movie: Inception, Director ID: 4765, Budget: $160,000,000, Revenue: $825,532,764, Vote Count: 13752\\n2. Movie: The Dark Knight, Director ID: 4765, Budget: $185,000,000, Revenue: $1,004,558,444, Vote Count: 12002\\n3. Movie: Avatar, Director ID: 4762, Budget: $237,000,000, Revenue: $2,787,965,087, Vote Count: 11800\\n4. Movie: The Avengers, Director ID: 4769, Budget: $220,000,000, Revenue: $1,519,557,910, Vote Count: 11776\\n5. Movie: Deadpool, Director ID: 5151, Budget: $58,000,000, Revenue: $783,112,979, Vote Count: 10995\\n6. Movie: Interstellar, Director ID: 4765, Budget: $165,000,000, Revenue: $675,120,017, Vote Count: 10867\\n7. Movie: Django Unchained, Director ID: 4927, Budget: $100,000,000, Revenue: $425,368,238, Vote Count: 10099\\n8. Movie: Guardians of the Galaxy, Director ID: 4827, Budget: $170,000,000, Revenue: $773,328,629, Vote Count: 9742\\n9. Movie: The Hunger Games, Director ID: 4973, Budget: $75,000,000, Revenue: $691,210,692, Vote Count: 9455\\n10. Movie: Mad Max: Fury Road, Director ID: 4845, Budget: $150,000,000, Revenue: $378,858,340, Vote Count: 9427'}"
      ]
     },
     "execution_count": 3,
     "metadata": {},
     "output_type": "execute_result"
    }
   ],
   "source": [
    "from langchain.agents import AgentType\n",
    "from langchain_community.agent_toolkits.sql.base import create_sql_agent\n",
    "from langchain_openai import ChatOpenAI\n",
    "from langchain_community.agent_toolkits.sql.toolkit import SQLDatabaseToolkit\n",
    "from langchain.sql_database import SQLDatabase\n",
    "\n",
    "llm = ChatOpenAI(\n",
    "    temperature=0.1,\n",
    "    model_name=\"gpt-3.5-turbo-0125\",\n",
    ")\n",
    "db = SQLDatabase.from_uri(\"sqlite:///movies.sqlite\")\n",
    "toolkit = SQLDatabaseToolkit(db=db, llm=llm)\n",
    "\n",
    "agent = create_sql_agent(\n",
    "    llm=llm,\n",
    "    toolkit=toolkit,\n",
    "    agent_type=AgentType.OPENAI_FUNCTIONS,\n",
    "    verbose=True,\n",
    ")\n",
    "\n",
    "# 툴킷 알아보기\n",
    "# toolkit.get_tools()\n",
    "\n",
    "agent.invoke(\n",
    "    \"Give me the movies that have the highest votes but the lowest budgets and give me the name of their directors also include their gross revenue.\"\n",
    ")"
   ]
  }
 ],
 "metadata": {
  "kernelspec": {
   "display_name": ".venv",
   "language": "python",
   "name": "python3"
  },
  "language_info": {
   "codemirror_mode": {
    "name": "ipython",
    "version": 3
   },
   "file_extension": ".py",
   "mimetype": "text/x-python",
   "name": "python",
   "nbconvert_exporter": "python",
   "pygments_lexer": "ipython3",
   "version": "3.11.8"
  }
 },
 "nbformat": 4,
 "nbformat_minor": 2
}
