{
 "cells": [
  {
   "cell_type": "code",
   "execution_count": 7,
   "metadata": {},
   "outputs": [
    {
     "name": "stdout",
     "output_type": "stream",
     "text": [
      "자바스크립트란,\n",
      "변수와 함수로\n",
      "마법을 부릅니다.\n",
      "\n",
      "---\n",
      "이 Haiku는 자바스크립트에 대한 간결하고 깊은 표현을 담고 있습니다. \n",
      "\n",
      "첫째 줄 \"자바스크립트란,\"은 자바스크립트에 대한 주제를 소개합니다. 둘째 줄 \"변수와 함수로\"는 자바스크립트에서 중요한 개념인 변수와 함수를 강조합니다. 마지막 줄 \"마법을 부릅니다.\"는 자바스크립트를 사용하면 마치 마법을 부리는 것처럼 다양한 기능을 구현할 수 있다는 의미를 담고 있습니다.\n",
      "\n",
      "이 Haiku는 자바스크립트의 본질을 간결하게 담아내었으며, 변수와 함수를 활용하여 다양한 기능을 구현할 수 있는 자바스크립트의 특성을 표현하고 있습니다."
     ]
    },
    {
     "data": {
      "text/plain": [
       "'이 Haiku는 자바스크립트에 대한 간결하고 깊은 표현을 담고 있습니다. \\n\\n첫째 줄 \"자바스크립트란,\"은 자바스크립트에 대한 주제를 소개합니다. 둘째 줄 \"변수와 함수로\"는 자바스크립트에서 중요한 개념인 변수와 함수를 강조합니다. 마지막 줄 \"마법을 부릅니다.\"는 자바스크립트를 사용하면 마치 마법을 부리는 것처럼 다양한 기능을 구현할 수 있다는 의미를 담고 있습니다.\\n\\n이 Haiku는 자바스크립트의 본질을 간결하게 담아내었으며, 변수와 함수를 활용하여 다양한 기능을 구현할 수 있는 자바스크립트의 특성을 표현하고 있습니다.'"
      ]
     },
     "execution_count": 7,
     "metadata": {},
     "output_type": "execute_result"
    }
   ],
   "source": [
    "from langchain_openai import ChatOpenAI\n",
    "from langchain_community.chat_models.ollama import ChatOllama\n",
    "from langchain_core.callbacks import StreamingStdOutCallbackHandler\n",
    "from langchain_core.output_parsers import StrOutputParser\n",
    "from langchain_core.prompts import ChatPromptTemplate, ChatMessagePromptTemplate\n",
    "\n",
    "chat = ChatOpenAI(\n",
    "    temperature=0.1,\n",
    "    streaming=True,\n",
    "    callbacks=[\n",
    "        StreamingStdOutCallbackHandler(),\n",
    "    ],\n",
    ")\n",
    "\n",
    "chat_ollama = ChatOllama(\n",
    "    temperature=0.1,\n",
    "    model=\"openhermes:latest\",\n",
    "    callbacks=[\n",
    "        StreamingStdOutCallbackHandler(),\n",
    "    ],\n",
    ")\n",
    "\n",
    "\n",
    "examples = [\n",
    "    {\n",
    "        \"country\": \"France\",\n",
    "        \"answer\": \"\"\"\n",
    "        Here is what I know:\n",
    "        Capital: Paris\n",
    "        Language: French\n",
    "        Food: Wine and Cheese\n",
    "        Currency: Euro\n",
    "        \"\"\",\n",
    "    },\n",
    "    {\n",
    "        \"country\": \"Italy\",\n",
    "        \"answer\": \"\"\"\n",
    "        I know this:\n",
    "        Capital: Rome\n",
    "        Language: Italian\n",
    "        Food: Pizza and Pasta\n",
    "        Currency: Euro\n",
    "        \"\"\",\n",
    "    },\n",
    "    {\n",
    "        \"country\": \"Greece\",\n",
    "        \"answer\": \"\"\"\n",
    "        I know this:\n",
    "        Capital: Athens\n",
    "        Language: Greek\n",
    "        Food: Souvlaki and Feta Cheese\n",
    "        Currency: Euro\n",
    "        \"\"\",\n",
    "    },\n",
    "]\n",
    "\n",
    "\n",
    "example_prompt = ChatPromptTemplate.from_messages(\n",
    "    [\n",
    "        (\"human\", \"What do you know about {country}?\"),\n",
    "        (\"ai\", \"{answer}\"),\n",
    "    ]\n",
    ")\n",
    "\n",
    "example_prompt = FewShotChatMessagePromptTemplate(\n",
    "    example_prompt=example_prompt,\n",
    "    examples=examples,\n",
    ")\n",
    "\n",
    "final_prompt = ChatPromptTemplate.from_messages(\n",
    "    [\n",
    "        (\"system\", \"You are a geography expert, you give short answers.\"),\n",
    "        example_prompt,\n",
    "        (\"human\", \"What do you know about {country}?\"),\n",
    "    ]\n",
    ")\n",
    "\n",
    "chain = final_prompt | chat\n",
    "\n",
    "chain.invoke({\"country\": \"Thailand\"})"
   ]
  },
  {
   "cell_type": "code",
   "execution_count": null,
   "metadata": {},
   "outputs": [],
   "source": []
  }
 ],
 "metadata": {
  "kernelspec": {
   "display_name": ".venv",
   "language": "python",
   "name": "python3"
  },
  "language_info": {
   "codemirror_mode": {
    "name": "ipython",
    "version": 3
   },
   "file_extension": ".py",
   "mimetype": "text/x-python",
   "name": "python",
   "nbconvert_exporter": "python",
   "pygments_lexer": "ipython3",
   "version": "3.11.8"
  }
 },
 "nbformat": 4,
 "nbformat_minor": 2
}
