{
 "cells": [
  {
   "cell_type": "code",
   "execution_count": 5,
   "metadata": {},
   "outputs": [
    {
     "name": "stdout",
     "output_type": "stream",
     "text": [
      "파이썬 코드는\n",
      "간결하고 아름답다\n",
      "프로그래밍 덕택\n",
      "\n",
      "---\n",
      "이 시는 파이썬 프로그래밍에 대한 찬사를 담고 있습니다. \"파이썬 코드는 간결하고 아름답다\"라는 구절은 파이썬 프로그래밍 언어의 간결하고 가독성이 높은 문법을 칭찬하고 있습니다. 파이썬은 코드를 작성할 때 굉장히 직관적이고 간결한 문법을 제공하여 프로그래머가 코드를 쉽게 이해하고 작성할 수 있도록 도와줍니다. 또한 \"프로그래밍 덕택\"이라는 구절은 프로그래밍 덕분에 새로운 기술을 배우고 문제를 해결하는 즐거움을 느낀다는 것을 의미합니다. 이 시는 파이썬 프로그래밍의 아름다움과 즐거움을 표현하고 있습니다."
     ]
    },
    {
     "data": {
      "text/plain": [
       "'이 시는 파이썬 프로그래밍에 대한 찬사를 담고 있습니다. \"파이썬 코드는 간결하고 아름답다\"라는 구절은 파이썬 프로그래밍 언어의 간결하고 가독성이 높은 문법을 칭찬하고 있습니다. 파이썬은 코드를 작성할 때 굉장히 직관적이고 간결한 문법을 제공하여 프로그래머가 코드를 쉽게 이해하고 작성할 수 있도록 도와줍니다. 또한 \"프로그래밍 덕택\"이라는 구절은 프로그래밍 덕분에 새로운 기술을 배우고 문제를 해결하는 즐거움을 느낀다는 것을 의미합니다. 이 시는 파이썬 프로그래밍의 아름다움과 즐거움을 표현하고 있습니다.'"
      ]
     },
     "execution_count": 5,
     "metadata": {},
     "output_type": "execute_result"
    }
   ],
   "source": [
    "from langchain_openai import ChatOpenAI\n",
    "from langchain_community.chat_models.ollama import ChatOllama\n",
    "from langchain_core.callbacks import StreamingStdOutCallbackHandler\n",
    "from langchain_core.output_parsers import StrOutputParser\n",
    "from langchain_core.prompts import ChatPromptTemplate\n",
    "\n",
    "\n",
    "llm_openai = ChatOpenAI(\n",
    "    temperature=0.1,\n",
    "    model=\"gpt-3.5-turbo\",\n",
    "    streaming=True,\n",
    "    callbacks=[\n",
    "        StreamingStdOutCallbackHandler(),\n",
    "    ],\n",
    ")\n",
    "\n",
    "llm = ChatOllama(\n",
    "    temperature=0.1,\n",
    "    model=\"openhermes:latest\",\n",
    "    callbacks=[\n",
    "        StreamingStdOutCallbackHandler(),\n",
    "    ],\n",
    ")\n",
    "\n",
    "output_parser = StrOutputParser()\n",
    "\n",
    "prompt_write_Haikus = ChatPromptTemplate.from_messages(\n",
    "    [\n",
    "        (\n",
    "            \"system\",\n",
    "            \"당신은 Haiku의 전문가 입니다. Haiku는 5-7-5의 형식을 가지는 일본 시입니다. 당신은 한국인 입니다. 한국어를 사용합니다.\",\n",
    "        ),\n",
    "        (\n",
    "            \"human\",\n",
    "            \"프로그래밍 언어 {topic}에 대한 재미있는 Haiku를 하나만 작성해줘. 2개 작성하지 마. 작성한 이후에는 한줄을 띄워줘.\",\n",
    "        ),\n",
    "    ]\n",
    ")\n",
    "\n",
    "\n",
    "prompt_expliain_Haikus = ChatPromptTemplate.from_messages(\n",
    "    [\n",
    "        (\n",
    "            \"system\",\n",
    "            \"당신은 Haiku의 전문가 입니다. 당신은 Haiku에 대해 자세하게 설명하는것을 좋아합니다. Haiku는 5-7-5의 형식을 가지는 일본 시입니다. 당신은 한국인 입니다. 한국어를 사용합니다.\",\n",
    "        ),\n",
    "        (\n",
    "            \"human\",\n",
    "            \"{output}에 대한 전문가적인 해석을 해줘. 시에 대해 다시 읽지 말고, 시를 해석할때는 아주 자세하게 설명해줘.\",\n",
    "        ),\n",
    "    ]\n",
    ")\n",
    "\n",
    "chain_write = prompt_write_Haikus | llm_openai | output_parser\n",
    "\n",
    "chain_explain = prompt_expliain_Haikus | llm_openai | output_parser\n",
    "\n",
    "\n",
    "final_chain = {\"output\": chain_write} | chain_explain\n",
    "\n",
    "final_chain.invoke({\"topic\": input()})"
   ]
  },
  {
   "cell_type": "code",
   "execution_count": null,
   "metadata": {},
   "outputs": [],
   "source": []
  }
 ],
 "metadata": {
  "kernelspec": {
   "display_name": ".venv",
   "language": "python",
   "name": "python3"
  },
  "language_info": {
   "codemirror_mode": {
    "name": "ipython",
    "version": 3
   },
   "file_extension": ".py",
   "mimetype": "text/x-python",
   "name": "python",
   "nbconvert_exporter": "python",
   "pygments_lexer": "ipython3",
   "version": "3.11.8"
  }
 },
 "nbformat": 4,
 "nbformat_minor": 2
}
