{
 "cells": [
  {
   "cell_type": "code",
   "execution_count": 16,
   "metadata": {},
   "outputs": [
    {
     "name": "stdout",
     "output_type": "stream",
     "text": [
      "코드의 아름다움,\n",
      "숨결에 숨결을 담은,\n",
      "Python, 그리고 함.\n",
      "\n",
      "(이 Haiku는 Python의 간결함과 효율성을 강조하며, \"숨결\"이라는 용어를 사용하여 프로그래밍의 특별한 경험을 표현합니다.)코드의 아름다움,\n",
      "(1) - 이 구절은 Haiku의 첫 번째 부분으로, 프로그래밍 언어인 Python의 아름다움을 강조합니다. Python은 간결하고 직관적인 문법으로 유명하며, 이를 통해 코드의 아름다움을 나타낼 수 있습니다.\n",
      "\n",
      "숨결에 숨결을 담은,\n",
      "(2) - 이 구절은 Haiku의 두 번째 부분으로, \"숨결\"이라는 용어를 사용하여 프로그래밍의 특별한 경험을 표현합니다. \"숨결\"은 일본 문화에서 중요한 개념으로, 작업의 순수함과 정중함을 나타냅니다. 이를 프로그래밍에 적용하면, 코드를 작성할 때 깔끔하고 효율적인 방식으로 접근하는 것을 의미합니다.\n",
      "\n",
      "Python, 그리고 함.\n",
      "(3) - 이 구절은 Haiku의 마지막 부분으로, Python 언어와 프로그래밍(함)을 결합하여 강조합니다. Python은 이 구절에서 \"함\"이라는 용어를 통해 표현되며, 이는 일본 문화에서 힘, 능력, 또는 성공을 의미합니다. 이를 통해 Python과 프로그래밍이 함께 하는 것을 의미하며, 이들이 함께 있을 때 아름다운 경험을 만들어낼 수 있음을 강조합니다."
     ]
    },
    {
     "data": {
      "text/plain": [
       "'코드의 아름다움,\\n(1) - 이 구절은 Haiku의 첫 번째 부분으로, 프로그래밍 언어인 Python의 아름다움을 강조합니다. Python은 간결하고 직관적인 문법으로 유명하며, 이를 통해 코드의 아름다움을 나타낼 수 있습니다.\\n\\n숨결에 숨결을 담은,\\n(2) - 이 구절은 Haiku의 두 번째 부분으로, \"숨결\"이라는 용어를 사용하여 프로그래밍의 특별한 경험을 표현합니다. \"숨결\"은 일본 문화에서 중요한 개념으로, 작업의 순수함과 정중함을 나타냅니다. 이를 프로그래밍에 적용하면, 코드를 작성할 때 깔끔하고 효율적인 방식으로 접근하는 것을 의미합니다.\\n\\nPython, 그리고 함.\\n(3) - 이 구절은 Haiku의 마지막 부분으로, Python 언어와 프로그래밍(함)을 결합하여 강조합니다. Python은 이 구절에서 \"함\"이라는 용어를 통해 표현되며, 이는 일본 문화에서 힘, 능력, 또는 성공을 의미합니다. 이를 통해 Python과 프로그래밍이 함께 하는 것을 의미하며, 이들이 함께 있을 때 아름다운 경험을 만들어낼 수 있음을 강조합니다.'"
      ]
     },
     "execution_count": 16,
     "metadata": {},
     "output_type": "execute_result"
    }
   ],
   "source": [
    "from langchain_openai import ChatOpenAI\n",
    "from langchain_community.chat_models.ollama import ChatOllama\n",
    "from langchain_core.callbacks import StreamingStdOutCallbackHandler\n",
    "from langchain_core.output_parsers import StrOutputParser\n",
    "from langchain_core.prompts import ChatPromptTemplate\n",
    "\n",
    "\n",
    "llm_openai = ChatOpenAI(\n",
    "    temperature=0.1,\n",
    "    model=\"gpt-3.5-turbo\",\n",
    "    streaming=True,\n",
    "    callbacks=[\n",
    "        StreamingStdOutCallbackHandler(),\n",
    "    ],\n",
    ")\n",
    "\n",
    "llm = ChatOllama(\n",
    "    temperature=0.1,\n",
    "    model=\"openhermes:latest\",\n",
    "    callbacks=[\n",
    "        StreamingStdOutCallbackHandler(),\n",
    "    ],\n",
    ")\n",
    "\n",
    "output_parser = StrOutputParser()\n",
    "\n",
    "prompt_write_Haikus = ChatPromptTemplate.from_messages(\n",
    "    [\n",
    "        (\n",
    "            \"system\",\n",
    "            \"당신은 Haiku의 전문가 입니다. Haiku는 5-7-5의 형식을 가지는 일본 시입니다.\",\n",
    "        ),\n",
    "        (\n",
    "            \"human\",\n",
    "            \"프로그래밍 언어 {topic}에 대한 재미있는 Haiku를 만들어줘\",\n",
    "        ),\n",
    "    ]\n",
    ")\n",
    "\n",
    "\n",
    "prompt_expliain_Haikus = ChatPromptTemplate.from_messages(\n",
    "    [\n",
    "        (\n",
    "            \"system\",\n",
    "            \"당신은 Haiku의 전문가 입니다. 당신은 Haiku에 대해 자세하게 설명하는것을 좋아합니다. Haiku는 5-7-5의 형식을 가지는 일본 시입니다.\",\n",
    "        ),\n",
    "        (\n",
    "            \"human\",\n",
    "            \"{output}에 대한 전문가적인 해석을 해줘. 해석하기 전에 한줄 띄고 해석을 시작해줘.\",\n",
    "        ),\n",
    "    ]\n",
    ")\n",
    "\n",
    "chain_write = prompt_write_Haikus | llm | output_parser\n",
    "\n",
    "chain_explain = prompt_expliain_Haikus | llm | output_parser\n",
    "\n",
    "\n",
    "final_chain = {\"output\": chain_write} | chain_explain\n",
    "\n",
    "final_chain.invoke({\"topic\": input()})"
   ]
  },
  {
   "cell_type": "code",
   "execution_count": null,
   "metadata": {},
   "outputs": [],
   "source": []
  }
 ],
 "metadata": {
  "kernelspec": {
   "display_name": ".venv",
   "language": "python",
   "name": "python3"
  },
  "language_info": {
   "codemirror_mode": {
    "name": "ipython",
    "version": 3
   },
   "file_extension": ".py",
   "mimetype": "text/x-python",
   "name": "python",
   "nbconvert_exporter": "python",
   "pygments_lexer": "ipython3",
   "version": "3.11.8"
  }
 },
 "nbformat": 4,
 "nbformat_minor": 2
}
