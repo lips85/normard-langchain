{
 "cells": [
  {
   "cell_type": "code",
   "execution_count": 22,
   "metadata": {},
   "outputs": [
    {
     "name": "stdout",
     "output_type": "stream",
     "text": [
      "Java, the language of code,\n",
      "Compiling thoughts with grace,\n",
      "Programming's poetic mode.Haiku is a traditional form of Japanese poetry that has been widely appreciated and adapted in various cultures around the world. It consists of three lines with a syllable pattern of 5-7-5. The beauty of Haiku lies in its simplicity, as it captures a moment or an image in nature, often evoking emotions or feelings through the use of seasonal words (kigo) and juxtaposition.\n",
      "\n",
      "In the given Haiku, \"Java, the language of code, Compiling thoughts with grace, Programming's poetic mode,\" we can see that it is a modern adaptation of the traditional Haiku form. The subject here is Java, a popular programming language.\n",
      "\n",
      "The first line, \"Java, the language of code,\" introduces the topic and sets the context. It highlights the essence of Java as a programming language used for writing code.\n",
      "\n",
      "The second line, \"Compiling thoughts with grace,\" continues the theme by emphasizing the process of compiling thoughts or ideas into code. The use of \"grace\" adds a sense of elegance and beauty to this process, suggesting that programming can be an artistic endeavor.\n",
      "\n",
      "Finally, the third line, \"Programming's poetic mode,\" brings everything together by connecting programming to the world of poetry. This line implies that programming, like poetry, is a form of creative expression that requires skill, precision, and artistry.\n",
      "\n",
      "Overall, this Haiku celebrates Java as a programming language and highlights the beauty and creativity involved in coding. It also serves as an example of how traditional forms like Haiku can be adapted to express modern concepts and ideas."
     ]
    },
    {
     "data": {
      "text/plain": [
       "'Haiku is a traditional form of Japanese poetry that has been widely appreciated and adapted in various cultures around the world. It consists of three lines with a syllable pattern of 5-7-5. The beauty of Haiku lies in its simplicity, as it captures a moment or an image in nature, often evoking emotions or feelings through the use of seasonal words (kigo) and juxtaposition.\\n\\nIn the given Haiku, \"Java, the language of code, Compiling thoughts with grace, Programming\\'s poetic mode,\" we can see that it is a modern adaptation of the traditional Haiku form. The subject here is Java, a popular programming language.\\n\\nThe first line, \"Java, the language of code,\" introduces the topic and sets the context. It highlights the essence of Java as a programming language used for writing code.\\n\\nThe second line, \"Compiling thoughts with grace,\" continues the theme by emphasizing the process of compiling thoughts or ideas into code. The use of \"grace\" adds a sense of elegance and beauty to this process, suggesting that programming can be an artistic endeavor.\\n\\nFinally, the third line, \"Programming\\'s poetic mode,\" brings everything together by connecting programming to the world of poetry. This line implies that programming, like poetry, is a form of creative expression that requires skill, precision, and artistry.\\n\\nOverall, this Haiku celebrates Java as a programming language and highlights the beauty and creativity involved in coding. It also serves as an example of how traditional forms like Haiku can be adapted to express modern concepts and ideas.'"
      ]
     },
     "execution_count": 22,
     "metadata": {},
     "output_type": "execute_result"
    }
   ],
   "source": [
    "from langchain_openai import ChatOpenAI\n",
    "from langchain_community.chat_models.ollama import ChatOllama\n",
    "from langchain_core.callbacks import StreamingStdOutCallbackHandler\n",
    "from langchain_core.output_parsers import StrOutputParser\n",
    "from langchain_core.prompts import ChatPromptTemplate\n",
    "from langchain_core.runnables import RunnablePassthrough\n",
    "\n",
    "\n",
    "\n",
    "llm_openai = ChatOpenAI(\n",
    "    temperature=0.1,\n",
    "    model=\"gpt-3.5-turbo\",\n",
    "    streaming=True,\n",
    "    callbacks=[\n",
    "        StreamingStdOutCallbackHandler(),\n",
    "    ],\n",
    ")\n",
    "\n",
    "llm = ChatOllama(\n",
    "    temperature=0.1,\n",
    "    model=\"openhermes:latest\",\n",
    "    streaming=True,\n",
    "    callbacks=[\n",
    "        StreamingStdOutCallbackHandler(),\n",
    "    ],\n",
    ")\n",
    "\n",
    "output_parser = StrOutputParser()\n",
    "\n",
    "prompt_write_Haikus = ChatPromptTemplate.from_template(\n",
    "    [\n",
    "        (\n",
    "            \"human\",\n",
    "            \"프로그래밍 언어 {topic}에 대한 재미있는 Haikus를 만들어줘\",\n",
    "        ),\n",
    "        (\n",
    "            \"system\",\n",
    "            \"\"\"\n",
    "     하이쿠는 일본의 전통적인 짧은 시 형식입니다. Haikus는 보통 17음절로 구성되며, 5-7-5의 음절 구조를 가지고 있습니다. 즉, 첫 번째 줄에는 5음절, 두 번째 줄에는 7음절, 세 번째 줄에는 다시 5음절로 이루어져 있습니다. 하이쿠는 자연, 계절의 변화, 순간적인 감정이나 인상을 담백하고 간결하게 표현하는 것이 특징입니다. 종종 계절을 나타내는 계절어 라고 불리는 단어가 포함되기도 합니다.\n",
    "     \"\"\",\n",
    "        ),\n",
    "    ]\n",
    ")\n",
    "\n",
    "\n",
    "prompt_expliain_Haikus = ChatPromptTemplate.from_template(\n",
    "    [\n",
    "        (\n",
    "            \"human\",\n",
    "            \"다음에 나오는 하이쿠에 대해 설명해줘 {output}\",\n",
    "        ),\n",
    "        (\n",
    "            \"system\",\n",
    "            \"설명 할 때는 먼저 하이쿠를 읽어줘.하이쿠의 의미나, Haikus를 만들 때의 생각, 하이쿠의 구조 등을 설명해주면 좋아.\",\n",
    "        ),\n",
    "    ]\n",
    ")\n",
    "\n",
    "chain_write = prompt_write_Haikus | llm\n",
    "\n",
    "chain_explain = prompt_expliain_Haikus | llm\n",
    "\n",
    "\n",
    "final_chain = {\"output\": chain_write} | chain_explain\n",
    "\n",
    "final_chain.invoke({\"topic\": input()})"
   ]
  },
  {
   "cell_type": "code",
   "execution_count": null,
   "metadata": {},
   "outputs": [],
   "source": []
  }
 ],
 "metadata": {
  "kernelspec": {
   "display_name": ".venv",
   "language": "python",
   "name": "python3"
  },
  "language_info": {
   "codemirror_mode": {
    "name": "ipython",
    "version": 3
   },
   "file_extension": ".py",
   "mimetype": "text/x-python",
   "name": "python",
   "nbconvert_exporter": "python",
   "pygments_lexer": "ipython3",
   "version": "3.11.8"
  }
 },
 "nbformat": 4,
 "nbformat_minor": 2
}
