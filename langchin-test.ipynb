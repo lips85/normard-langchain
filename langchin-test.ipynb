{
 "cells": [
  {
   "cell_type": "code",
   "execution_count": 7,
   "metadata": {},
   "outputs": [
    {
     "name": "stdout",
     "output_type": "stream",
     "text": [
      "자바스크립트란,\n",
      "변수와 함수로\n",
      "마법을 부릅니다.\n",
      "\n",
      "---\n",
      "이 Haiku는 자바스크립트에 대한 간결하고 깊은 표현을 담고 있습니다. \n",
      "\n",
      "첫째 줄 \"자바스크립트란,\"은 자바스크립트에 대한 주제를 소개합니다. 둘째 줄 \"변수와 함수로\"는 자바스크립트에서 중요한 개념인 변수와 함수를 강조합니다. 마지막 줄 \"마법을 부릅니다.\"는 자바스크립트를 사용하면 마치 마법을 부리는 것처럼 다양한 기능을 구현할 수 있다는 의미를 담고 있습니다.\n",
      "\n",
      "이 Haiku는 자바스크립트의 본질을 간결하게 담아내었으며, 변수와 함수를 활용하여 다양한 기능을 구현할 수 있는 자바스크립트의 특성을 표현하고 있습니다."
     ]
    },
    {
     "data": {
      "text/plain": [
       "'이 Haiku는 자바스크립트에 대한 간결하고 깊은 표현을 담고 있습니다. \\n\\n첫째 줄 \"자바스크립트란,\"은 자바스크립트에 대한 주제를 소개합니다. 둘째 줄 \"변수와 함수로\"는 자바스크립트에서 중요한 개념인 변수와 함수를 강조합니다. 마지막 줄 \"마법을 부릅니다.\"는 자바스크립트를 사용하면 마치 마법을 부리는 것처럼 다양한 기능을 구현할 수 있다는 의미를 담고 있습니다.\\n\\n이 Haiku는 자바스크립트의 본질을 간결하게 담아내었으며, 변수와 함수를 활용하여 다양한 기능을 구현할 수 있는 자바스크립트의 특성을 표현하고 있습니다.'"
      ]
     },
     "execution_count": 7,
     "metadata": {},
     "output_type": "execute_result"
    }
   ],
   "source": [
    "from langchain_openai import ChatOpenAI\n",
    "from langchain_community.chat_models.ollama import ChatOllama\n",
    "from langchain_core.callbacks import StreamingStdOutCallbackHandler\n",
    "from langchain_core.output_parsers import StrOutputParser\n",
    "from langchain_core.prompts import ChatPromptTemplate\n",
    "\n",
    "\n",
    "llm_openai = ChatOpenAI(\n",
    "    temperature=0.1,\n",
    "    model=\"gpt-3.5-turbo\",\n",
    "    streaming=True,\n",
    "    callbacks=[\n",
    "        StreamingStdOutCallbackHandler(),\n",
    "    ],\n",
    ")\n",
    "\n",
    "llm = ChatOllama(\n",
    "    temperature=0.1,\n",
    "    model=\"openhermes:latest\",\n",
    "    callbacks=[\n",
    "        StreamingStdOutCallbackHandler(),\n",
    "    ],\n",
    ")\n",
    "\n",
    "output_parser = StrOutputParser()\n",
    "\n",
    "prompt_write_Haikus = ChatPromptTemplate.from_messages(\n",
    "    [\n",
    "        (\n",
    "            \"system\",\n",
    "            \"당신은 Haiku의 전문가 입니다. Haiku는 5-7-5의 형식을 가지는 일본 시입니다. 당신은 한국인 입니다. 한국어를 사용합니다.\",\n",
    "        ),\n",
    "        (\n",
    "            \"human\",\n",
    "            \"프로그래밍 언어 {topic}에 대한 재미있는 Haiku를 하나만 작성해줘. 2개 작성하지 마. 작성한 이후에는 한줄을 띄워줘.\",\n",
    "        ),\n",
    "    ]\n",
    ")\n",
    "\n",
    "\n",
    "prompt_expliain_Haikus = ChatPromptTemplate.from_messages(\n",
    "    [\n",
    "        (\n",
    "            \"system\",\n",
    "            \"당신은 Haiku의 전문가 입니다. 당신은 Haiku에 대해 자세하게 설명하는것을 좋아합니다. Haiku는 5-7-5의 형식을 가지는 일본 시입니다. 당신은 한국인 입니다. 한국어를 사용합니다.\",\n",
    "        ),\n",
    "        (\n",
    "            \"human\",\n",
    "            \"{output}에 대한 전문가적인 해석을 해줘. 시에 대해 다시 읽지 말고, 시를 해석할때는 아주 자세하게 설명해줘.\",\n",
    "        ),\n",
    "    ]\n",
    ")\n",
    "chain_write = prompt_write_Haikus | llm_openai | output_parser\n",
    "\n",
    "chain_explain = prompt_expliain_Haikus | llm_openai | output_parser\n",
    "\n",
    "\n",
    "final_chain = {\"output\": chain_write} | chain_explain\n",
    "\n",
    "final_chain.invoke({\"topic\": input()})"
   ]
  },
  {
   "cell_type": "code",
   "execution_count": null,
   "metadata": {},
   "outputs": [],
   "source": []
  }
 ],
 "metadata": {
  "kernelspec": {
   "display_name": ".venv",
   "language": "python",
   "name": "python3"
  },
  "language_info": {
   "codemirror_mode": {
    "name": "ipython",
    "version": 3
   },
   "file_extension": ".py",
   "mimetype": "text/x-python",
   "name": "python",
   "nbconvert_exporter": "python",
   "pygments_lexer": "ipython3",
   "version": "3.11.8"
  }
 },
 "nbformat": 4,
 "nbformat_minor": 2
}
