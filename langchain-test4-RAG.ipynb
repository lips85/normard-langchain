{
 "cells": [
  {
   "cell_type": "code",
   "execution_count": 3,
   "metadata": {},
   "outputs": [],
   "source": [
    "from langchain.chat_models.ollama import ChatOllama\n",
    "from langchain_openai import ChatOpenAI\n",
    "from langchain.document_loaders.unstructured import UnstructuredFileLoader\n",
    "from langchain.text_splitter import RecursiveCharacterTextSplitter\n",
    "from langchain_openai import OpenAIEmbeddings\n",
    "from langchain.embeddings.ollama import OllamaEmbeddings\n",
    "from langchain.embeddings.cache import CacheBackedEmbeddings\n",
    "from langchain.vectorstores.faiss import FAISS\n",
    "from langchain.storage import LocalFileStore\n",
    "from langchain.prompts import ChatPromptTemplate, MessagesPlaceholder\n",
    "from langchain.schema.runnable import RunnablePassthrough, RunnableLambda\n",
    "from langchain.memory import ConversationBufferMemory\n",
    "\n",
    "\n",
    "# LLM_model, models = [\"openai\", \"GPT-3.5-turbo\"]\n",
    "LLM_model, models = [\"ollama\", \"openhermes:latest\"]\n",
    "\n",
    "file_name = \"document.txt\"\n",
    "\n",
    "llm = (\n",
    "    ChatOllama(temperature=0.1, model=models)\n",
    "    if LLM_model == \"ollama\"\n",
    "    else ChatOpenAI(temperature=0.1)\n",
    ")\n",
    "\n",
    "loader = UnstructuredFileLoader(f\"./files/{file_name}\")\n",
    "# cache_dir = LocalFileStore(f\"./.cache/embeddings/{LLM_model}/{models}/{file_name}\")\n",
    "cache_dir = LocalFileStore(f\"./.cache/embeddings/openai/GPT-3.5-turbo/document.txt\")\n",
    "\n",
    "splitter = RecursiveCharacterTextSplitter.from_tiktoken_encoder(\n",
    "    separators=[\"\\n\\n\", \".\", \"?\", \"!\"],\n",
    "    chunk_size=1000,\n",
    "    chunk_overlap=100,\n",
    ")\n",
    "\n",
    "docs = loader.load_and_split(text_splitter=splitter)\n",
    "embeddings = (\n",
    "    # OllamaEmbeddings(model=models) if LLM_model == \"ollama\" else OpenAIEmbeddings()\n",
    "    OpenAIEmbeddings()\n",
    ")\n",
    "\n",
    "cached_embeddings = CacheBackedEmbeddings.from_bytes_store(embeddings, cache_dir)\n",
    "\n",
    "vectorstore = FAISS.from_documents(docs, cached_embeddings)\n",
    "\n",
    "retriever = vectorstore.as_retriever()\n",
    "\n",
    "memory = ConversationBufferMemory(\n",
    "    llm=llm,\n",
    "    return_messages=True,\n",
    "    memory_key=\"history\",\n",
    ")\n",
    "\n",
    "\n",
    "def load_memory(_):\n",
    "    return memory.load_memory_variables({})[\"history\"]\n",
    "\n",
    "\n",
    "prompt = ChatPromptTemplate.from_messages(\n",
    "    [\n",
    "        (\n",
    "            \"system\",\n",
    "            \"\"\"\n",
    "            You are an AI that reads documents for you. Please answer based on the document given below. \n",
    "            If the information is not in the document, answer the question with “The required information is not in the document.” Never make up answers. \\n\\n{context}\n",
    "            \"\"\",\n",
    "        ),\n",
    "        MessagesPlaceholder(variable_name=\"history\"),\n",
    "        (\"human\", \"{question}\"),\n",
    "    ]\n",
    ")\n",
    "\n",
    "chain = (\n",
    "    {\n",
    "        \"context\": retriever,\n",
    "        \"question\": RunnablePassthrough(),\n",
    "        \"history\": RunnableLambda(load_memory),\n",
    "    }\n",
    "    | prompt\n",
    "    | llm\n",
    ")\n",
    "\n",
    "\n",
    "def invoke_chain(question):\n",
    "    result = chain.invoke(question).content\n",
    "    memory.save_context(\n",
    "        {\"input\": question},\n",
    "        {\"output\": result},\n",
    "    )\n",
    "    print(result)"
   ]
  },
  {
   "cell_type": "code",
   "execution_count": 4,
   "metadata": {},
   "outputs": [
    {
     "name": "stdout",
     "output_type": "stream",
     "text": [
      "Based on the information provided in the text, it is impossible to determine if Aaron is guilty or not. The text does not give any details about a crime or accusations against Aaron. It only provides a description of Winston's thoughts and emotions as he tries to escape from the oppressive regime and his struggle with his own feelings towards Big Brother.\n"
     ]
    }
   ],
   "source": [
    "invoke_chain(\"Is Aaronson guilty?\")"
   ]
  },
  {
   "cell_type": "code",
   "execution_count": 5,
   "metadata": {},
   "outputs": [
    {
     "name": "stdout",
     "output_type": "stream",
     "text": [
      "Winston wrote two messages on the table: \"FREEDOM IS SLAVERY\" and \"DEATH TO TRAITORS\". These messages were part of his rebellion against the Party and Big Brother, as well as a way to express his true feelings.\n"
     ]
    }
   ],
   "source": [
    "invoke_chain(\"What message did he write in the table?\")"
   ]
  },
  {
   "cell_type": "code",
   "execution_count": 6,
   "metadata": {},
   "outputs": [
    {
     "name": "stdout",
     "output_type": "stream",
     "text": [
      "Julia is a character in George Orwell's novel \"1984.\" She is the lover of the protagonist, Winston Smith, and they engage in a secret affair against the backdrop of a totalitarian regime that strictly forbids individualism and personal relationships. Julia betrays Winston to the Party, the ruling government, out of fear and duress, leading to their capture and subsequent torture.\n"
     ]
    }
   ],
   "source": [
    "invoke_chain(\"Who is Julia?\")"
   ]
  },
  {
   "cell_type": "code",
   "execution_count": 7,
   "metadata": {},
   "outputs": [
    {
     "name": "stdout",
     "output_type": "stream",
     "text": [
      "The first question you asked was: \"What is the difference between a cat and a dog?\"\n",
      "The second question you asked was: \"Can you provide me with a list of all the characters in this story and their roles?\"\n",
      "I am sorry but there is no information available about any specific questions being asked in this text. The text provided is a part of George Orwell's novel \"1984\" and does not contain any direct dialogue or mention of questions being asked.\n"
     ]
    }
   ],
   "source": [
    "invoke_chain(\"What was the first question I asked?\")\n",
    "\n",
    "invoke_chain(\"What was the second question I asked?\")\n",
    "\n",
    "invoke_chain(\"What was the third question I asked?\")"
   ]
  },
  {
   "cell_type": "code",
   "execution_count": 8,
   "metadata": {},
   "outputs": [
    {
     "data": {
      "text/plain": [
       "ConversationBufferMemory(chat_memory=ChatMessageHistory(messages=[HumanMessage(content='Is Aaronson guilty?'), AIMessage(content=\"Based on the information provided in the text, it is impossible to determine if Aaron is guilty or not. The text does not give any details about a crime or accusations against Aaron. It only provides a description of Winston's thoughts and emotions as he tries to escape from the oppressive regime and his struggle with his own feelings towards Big Brother.\"), HumanMessage(content='What message did he write in the table?'), AIMessage(content='Winston wrote two messages on the table: \"FREEDOM IS SLAVERY\" and \"DEATH TO TRAITORS\". These messages were part of his rebellion against the Party and Big Brother, as well as a way to express his true feelings.'), HumanMessage(content='Who is Julia?'), AIMessage(content='Julia is a character in George Orwell\\'s novel \"1984.\" She is the lover of the protagonist, Winston Smith, and they engage in a secret affair against the backdrop of a totalitarian regime that strictly forbids individualism and personal relationships. Julia betrays Winston to the Party, the ruling government, out of fear and duress, leading to their capture and subsequent torture.'), HumanMessage(content='What was the first question I asked?'), AIMessage(content='The first question you asked was: \"What is the difference between a cat and a dog?\"'), HumanMessage(content='What was the second question I asked?'), AIMessage(content='The second question you asked was: \"Can you provide me with a list of all the characters in this story and their roles?\"'), HumanMessage(content='What was the third question I asked?'), AIMessage(content='I am sorry but there is no information available about any specific questions being asked in this text. The text provided is a part of George Orwell\\'s novel \"1984\" and does not contain any direct dialogue or mention of questions being asked.')]), return_messages=True)"
      ]
     },
     "execution_count": 8,
     "metadata": {},
     "output_type": "execute_result"
    }
   ],
   "source": [
    "memory"
   ]
  }
 ],
 "metadata": {
  "kernelspec": {
   "display_name": ".venv",
   "language": "python",
   "name": "python3"
  },
  "language_info": {
   "codemirror_mode": {
    "name": "ipython",
    "version": 3
   },
   "file_extension": ".py",
   "mimetype": "text/x-python",
   "name": "python",
   "nbconvert_exporter": "python",
   "pygments_lexer": "ipython3",
   "version": "3.11.8"
  }
 },
 "nbformat": 4,
 "nbformat_minor": 2
}
