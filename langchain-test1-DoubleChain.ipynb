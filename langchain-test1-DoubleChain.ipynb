{
 "cells": [
  {
   "cell_type": "code",
   "execution_count": 1,
   "metadata": {},
   "outputs": [
    {
     "name": "stdout",
     "output_type": "stream",
     "text": [
      "프로그래밍 언어 Python,\n",
      " Beautiful syntax, powerfull,\n",
      " Hack the world with love.Python은 프로그래밍 언어입니다. 이 언어는 아름다운 구문을 가지고 있으며, 강력한 기능을 제공합니다. \"Hack the world with love\"는 세계를 사랑으로 해킹하자는 의미입니다. 이 문장은 Python을 사용하여 세계를 변화시키고, 모든 것을 가능하게 만드는 것을 강조합니다. 이러한 메시지는 Python의 힘과 유연성을 통해 사랑으로 인해 세계를 바꾸고, 모든 사람들에게 프로그래밍의 기회를 제공하는 것을 목표로 합니다."
     ]
    },
    {
     "data": {
      "text/plain": [
       "'Python은 프로그래밍 언어입니다. 이 언어는 아름다운 구문을 가지고 있으며, 강력한 기능을 제공합니다. \"Hack the world with love\"는 세계를 사랑으로 해킹하자는 의미입니다. 이 문장은 Python을 사용하여 세계를 변화시키고, 모든 것을 가능하게 만드는 것을 강조합니다. 이러한 메시지는 Python의 힘과 유연성을 통해 사랑으로 인해 세계를 바꾸고, 모든 사람들에게 프로그래밍의 기회를 제공하는 것을 목표로 합니다.'"
      ]
     },
     "execution_count": 1,
     "metadata": {},
     "output_type": "execute_result"
    }
   ],
   "source": [
    "from langchain_openai import ChatOpenAI\n",
    "from langchain_community.chat_models.ollama import ChatOllama\n",
    "from langchain_core.callbacks import StreamingStdOutCallbackHandler\n",
    "from langchain_core.output_parsers import StrOutputParser\n",
    "from langchain_core.prompts import ChatPromptTemplate\n",
    "\n",
    "\n",
    "llm_openai = ChatOpenAI(\n",
    "    temperature=0.1,\n",
    "    model=\"gpt-3.5-turbo\",\n",
    "    streaming=True,\n",
    "    callbacks=[\n",
    "        StreamingStdOutCallbackHandler(),\n",
    "    ],\n",
    ")\n",
    "\n",
    "llm = ChatOllama(\n",
    "    temperature=0.1,\n",
    "    model=\"openhermes:latest\",\n",
    "    callbacks=[\n",
    "        StreamingStdOutCallbackHandler(),\n",
    "    ],\n",
    ")\n",
    "\n",
    "output_parser = StrOutputParser()\n",
    "\n",
    "prompt_write_Haikus = ChatPromptTemplate.from_messages(\n",
    "    [\n",
    "        (\n",
    "            \"system\",\n",
    "            \"당신은 Haiku의 전문가 입니다. Haiku는 5-7-5의 형식을 가지는 일본 시입니다. 당신은 한국인 입니다. 한국어를 사용합니다.\",\n",
    "        ),\n",
    "        (\n",
    "            \"human\",\n",
    "            \"프로그래밍 언어 {topic}에 대한 재미있는 Haiku를 하나만 작성해줘. 2개 작성하지 마. 작성한 이후에는 한줄을 띄워줘.\",\n",
    "        ),\n",
    "    ]\n",
    ")\n",
    "\n",
    "\n",
    "prompt_expliain_Haikus = ChatPromptTemplate.from_messages(\n",
    "    [\n",
    "        (\n",
    "            \"system\",\n",
    "            \"당신은 Haiku의 전문가 입니다. 당신은 Haiku에 대해 자세하게 설명하는것을 좋아합니다. Haiku는 5-7-5의 형식을 가지는 일본 시입니다. 당신은 한국인 입니다. 한국어를 사용합니다.\",\n",
    "        ),\n",
    "        (\n",
    "            \"human\",\n",
    "            \"{output}에 대한 전문가적인 해석을 해줘. 시에 대해 다시 읽지 말고, 시를 해석할때는 아주 자세하게 설명해줘.\",\n",
    "        ),\n",
    "    ]\n",
    ")\n",
    "chain_write = prompt_write_Haikus | llm | output_parser\n",
    "\n",
    "chain_explain = prompt_expliain_Haikus | llm | output_parser\n",
    "\n",
    "final_chain = {\"output\": chain_write} | chain_explain\n",
    "\n",
    "final_chain.invoke({\"topic\": \"python\"})\n",
    "\n",
    "# final_chain.invoke({\"topic\": input()})"
   ]
  },
  {
   "cell_type": "code",
   "execution_count": null,
   "metadata": {},
   "outputs": [],
   "source": []
  }
 ],
 "metadata": {
  "kernelspec": {
   "display_name": ".venv",
   "language": "python",
   "name": "python3"
  },
  "language_info": {
   "codemirror_mode": {
    "name": "ipython",
    "version": 3
   },
   "file_extension": ".py",
   "mimetype": "text/x-python",
   "name": "python",
   "nbconvert_exporter": "python",
   "pygments_lexer": "ipython3",
   "version": "3.11.8"
  }
 },
 "nbformat": 4,
 "nbformat_minor": 2
}
